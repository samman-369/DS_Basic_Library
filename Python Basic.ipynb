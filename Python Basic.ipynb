{
 "cells": [
  {
   "cell_type": "markdown",
   "id": "75d86f68",
   "metadata": {},
   "source": [
    "# 1.Comment"
   ]
  },
  {
   "cell_type": "code",
   "execution_count": 1,
   "id": "f1e91b0c",
   "metadata": {},
   "outputs": [
    {
     "name": "stdout",
     "output_type": "stream",
     "text": [
      "Hello World\n"
     ]
    }
   ],
   "source": [
    "# This is a comment\n",
    "print(\"Hello World\")"
   ]
  },
  {
   "cell_type": "code",
   "execution_count": 2,
   "id": "0a2970ad",
   "metadata": {},
   "outputs": [
    {
     "name": "stdout",
     "output_type": "stream",
     "text": [
      "Hello World\n"
     ]
    }
   ],
   "source": [
    "print(\"Hello World\") # This is comment"
   ]
  },
  {
   "cell_type": "code",
   "execution_count": 3,
   "id": "8b7d88e3",
   "metadata": {},
   "outputs": [
    {
     "name": "stdout",
     "output_type": "stream",
     "text": [
      "Hello World\n"
     ]
    }
   ],
   "source": [
    "# print(\"Hello\")\n",
    "print(\"Hello World\")"
   ]
  },
  {
   "cell_type": "markdown",
   "id": "34693038",
   "metadata": {},
   "source": [
    "### Multiple line of comment"
   ]
  },
  {
   "cell_type": "code",
   "execution_count": 4,
   "id": "991c340f",
   "metadata": {},
   "outputs": [
    {
     "name": "stdout",
     "output_type": "stream",
     "text": [
      "Hello World\n"
     ]
    }
   ],
   "source": [
    "# This is first line of comment\n",
    "# This is second line of comment\n",
    "print(\"Hello World\")"
   ]
  },
  {
   "cell_type": "code",
   "execution_count": 5,
   "id": "6a1fded1",
   "metadata": {},
   "outputs": [
    {
     "name": "stdout",
     "output_type": "stream",
     "text": [
      "Hello World\n"
     ]
    }
   ],
   "source": [
    "\"\"\"\n",
    "This is first line of comment\n",
    "his is second line of comment\n",
    "\"\"\"\n",
    "print(\"Hello World\")"
   ]
  },
  {
   "cell_type": "markdown",
   "id": "bdeb27fa",
   "metadata": {},
   "source": [
    "# 2.Varriable"
   ]
  },
  {
   "cell_type": "code",
   "execution_count": 6,
   "id": "502f1063",
   "metadata": {},
   "outputs": [
    {
     "name": "stdout",
     "output_type": "stream",
     "text": [
      "10\n"
     ]
    }
   ],
   "source": [
    "x = 10\n",
    "y = \"salary\"\n",
    "z = True\n",
    "print(x)"
   ]
  },
  {
   "cell_type": "code",
   "execution_count": 7,
   "id": "4ecd3d72",
   "metadata": {},
   "outputs": [
    {
     "name": "stdout",
     "output_type": "stream",
     "text": [
      "3.56\n"
     ]
    }
   ],
   "source": [
    "# casting\n",
    "x = str(3.56)\n",
    "y = int(3.0)\n",
    "z = float(3)\n",
    "print(x)"
   ]
  },
  {
   "cell_type": "code",
   "execution_count": 8,
   "id": "741a35f4",
   "metadata": {},
   "outputs": [
    {
     "name": "stdout",
     "output_type": "stream",
     "text": [
      "<class 'int'>\n",
      "<class 'str'>\n"
     ]
    }
   ],
   "source": [
    "# get type\n",
    "x = 5\n",
    "y = 'john'\n",
    "print(type(x))\n",
    "print(type(y))"
   ]
  },
  {
   "cell_type": "markdown",
   "id": "1cae74d4",
   "metadata": {},
   "source": [
    "### Varriable name"
   ]
  },
  {
   "cell_type": "code",
   "execution_count": 9,
   "id": "f64562ca",
   "metadata": {},
   "outputs": [
    {
     "name": "stdout",
     "output_type": "stream",
     "text": [
      "10\n"
     ]
    },
    {
     "data": {
      "text/plain": [
       "'\\n2myvar = 10\\n2 my v =10\\nmy-var = 10\\n'"
      ]
     },
     "execution_count": 9,
     "metadata": {},
     "output_type": "execute_result"
    }
   ],
   "source": [
    "# Valid\n",
    "My_var = 10\n",
    "my_var = 10\n",
    "my1var = 10\n",
    "myvar  = 10\n",
    "myVar2 = 10\n",
    "print(My_var)\n",
    "\n",
    "# not valid\n",
    "\"\"\"\n",
    "2myvar = 10\n",
    "2 my v =10\n",
    "my-var = 10\n",
    "\"\"\""
   ]
  },
  {
   "cell_type": "markdown",
   "id": "05570ca6",
   "metadata": {},
   "source": [
    "### Multiple word varriable name"
   ]
  },
  {
   "cell_type": "code",
   "execution_count": 10,
   "id": "f41df4de",
   "metadata": {},
   "outputs": [
    {
     "name": "stdout",
     "output_type": "stream",
     "text": [
      "john\n"
     ]
    }
   ],
   "source": [
    "# Camel Case Type\n",
    "# each word except first, starts wtih capital letter.\n",
    "myVarriableName = 'john'\n",
    "validVarriable  = 'john'\n",
    "print(myVarriableName)"
   ]
  },
  {
   "cell_type": "code",
   "execution_count": 11,
   "id": "63d11273",
   "metadata": {},
   "outputs": [
    {
     "name": "stdout",
     "output_type": "stream",
     "text": [
      "john\n"
     ]
    }
   ],
   "source": [
    "# Pascal Case\n",
    "# each word start with a Capital letter\n",
    "MyVarriableName = \"john\"\n",
    "ValidVarriable  = \"john\"\n",
    "print(MyVarriableName)"
   ]
  },
  {
   "cell_type": "code",
   "execution_count": 12,
   "id": "462f4185",
   "metadata": {},
   "outputs": [
    {
     "name": "stdout",
     "output_type": "stream",
     "text": [
      "john\n"
     ]
    }
   ],
   "source": [
    "# Snake Case\n",
    "# each word is seperated with underscore sign\n",
    "my_varriable_name = 'john'\n",
    "valid_varriale = 'john'\n",
    "print(my_varriable_name)"
   ]
  },
  {
   "cell_type": "markdown",
   "id": "dd92f767",
   "metadata": {},
   "source": [
    "### Assign Multiple value"
   ]
  },
  {
   "cell_type": "code",
   "execution_count": 14,
   "id": "8bf0209a",
   "metadata": {},
   "outputs": [
    {
     "name": "stdout",
     "output_type": "stream",
     "text": [
      "orange\n",
      "banana\n",
      "apple\n"
     ]
    }
   ],
   "source": [
    "x, y, z = \"orange\", \"banana\", \"apple\"\n",
    "print(x)\n",
    "print(y)\n",
    "print(z)"
   ]
  },
  {
   "cell_type": "code",
   "execution_count": 24,
   "id": "3ebc891f",
   "metadata": {},
   "outputs": [
    {
     "name": "stdout",
     "output_type": "stream",
     "text": [
      "10\n",
      "samman\n"
     ]
    }
   ],
   "source": [
    "x, y = 10, \"samman\"\n",
    "print(x)\n",
    "print(y)"
   ]
  },
  {
   "cell_type": "code",
   "execution_count": 15,
   "id": "bbdc7f1c",
   "metadata": {},
   "outputs": [
    {
     "name": "stdout",
     "output_type": "stream",
     "text": [
      "Apple\n",
      "Apple\n",
      "Apple\n"
     ]
    }
   ],
   "source": [
    "x = y = z =\"Apple\"\n",
    "print(x)\n",
    "print(y)\n",
    "print(z)"
   ]
  },
  {
   "cell_type": "code",
   "execution_count": 16,
   "id": "f55a0c6c",
   "metadata": {},
   "outputs": [
    {
     "name": "stdout",
     "output_type": "stream",
     "text": [
      "apple\n",
      "banana\n",
      "orange\n"
     ]
    }
   ],
   "source": [
    "fruits = [\"apple\", \"banana\", \"orange\"]\n",
    "x, y, z = fruits\n",
    "print(x)\n",
    "print(y)\n",
    "print(z)"
   ]
  },
  {
   "cell_type": "markdown",
   "id": "be571d3a",
   "metadata": {},
   "source": [
    "### Output Varriable"
   ]
  },
  {
   "cell_type": "code",
   "execution_count": 17,
   "id": "cc35713f",
   "metadata": {},
   "outputs": [
    {
     "name": "stdout",
     "output_type": "stream",
     "text": [
      "python is awsome\n",
      "pythonisawsome\n"
     ]
    }
   ],
   "source": [
    "x = 'python'\n",
    "y = 'is'\n",
    "z = 'awsome'\n",
    "print(x, y, z)\n",
    "print(x + y + z)"
   ]
  },
  {
   "cell_type": "code",
   "execution_count": 18,
   "id": "06fa25c7",
   "metadata": {},
   "outputs": [
    {
     "name": "stdout",
     "output_type": "stream",
     "text": [
      "15\n"
     ]
    }
   ],
   "source": [
    "x = 5\n",
    "y = 10\n",
    "print( x + y)"
   ]
  },
  {
   "cell_type": "code",
   "execution_count": 19,
   "id": "f4b2edf5",
   "metadata": {},
   "outputs": [],
   "source": [
    "# in printf + functon works as an Add operator\n",
    "x = 5\n",
    "y = 'john'\n",
    "# print (x+y)"
   ]
  },
  {
   "cell_type": "markdown",
   "id": "0857eafc",
   "metadata": {},
   "source": [
    "### Global Varriable"
   ]
  },
  {
   "cell_type": "code",
   "execution_count": 20,
   "id": "35e098de",
   "metadata": {},
   "outputs": [
    {
     "name": "stdout",
     "output_type": "stream",
     "text": [
      "python is awesome\n",
      "python is awesome\n"
     ]
    }
   ],
   "source": [
    "x = 'awesome'\n",
    "\n",
    "def just():\n",
    "    print(\"python is \"+ x)\n",
    "    \n",
    "just()\n",
    "print(\"python is \"+ x)"
   ]
  },
  {
   "cell_type": "code",
   "execution_count": 21,
   "id": "a6a6b250",
   "metadata": {},
   "outputs": [
    {
     "name": "stdout",
     "output_type": "stream",
     "text": [
      "Python is fantastic\n"
     ]
    }
   ],
   "source": [
    "def myfunc():\n",
    "  global x\n",
    "  x = \"fantastic\"\n",
    "\n",
    "myfunc()\n",
    "\n",
    "print(\"Python is \" + x)"
   ]
  },
  {
   "cell_type": "code",
   "execution_count": 22,
   "id": "2c0a0d0f",
   "metadata": {},
   "outputs": [
    {
     "name": "stdout",
     "output_type": "stream",
     "text": [
      "Python is  fantastics\n"
     ]
    }
   ],
   "source": [
    "x = \"awesome\"\n",
    "def myfun():\n",
    "    global x\n",
    "    x = \"fantastics\"\n",
    "\n",
    "myfun()\n",
    "print(\"Python is \", x)"
   ]
  },
  {
   "cell_type": "code",
   "execution_count": 25,
   "id": "c1e128b8",
   "metadata": {},
   "outputs": [
    {
     "name": "stdout",
     "output_type": "stream",
     "text": [
      "fantastics\n",
      "Python is  awesome\n"
     ]
    }
   ],
   "source": [
    "global x\n",
    "x = \"awesome\"\n",
    "def myfun():\n",
    "    x = \"fantastics\"\n",
    "    print(x)\n",
    "    \n",
    "myfun()\n",
    "print(\"Python is \", x)"
   ]
  },
  {
   "cell_type": "markdown",
   "id": "d12dcca1",
   "metadata": {},
   "source": [
    "# 3.Data Type"
   ]
  },
  {
   "cell_type": "code",
   "execution_count": 33,
   "id": "dbfe6462",
   "metadata": {},
   "outputs": [
    {
     "name": "stdout",
     "output_type": "stream",
     "text": [
      "<class 'str'>\n",
      "<class 'int'>\n",
      "<class 'float'>\n",
      "<class 'complex'>\n",
      "<class 'bool'>\n",
      "<class 'list'>\n",
      "<class 'tuple'>\n",
      "<class 'set'>\n",
      "<class 'dict'>\n"
     ]
    }
   ],
   "source": [
    "x = \"hello world!\"\n",
    "print(type(x))\n",
    "x = 20\n",
    "print(type(x))\n",
    "x =20.5\n",
    "print(type(x))\n",
    "x =1j\n",
    "print(type(x))\n",
    "x =True\n",
    "print(type(x))\n",
    "x = [\"apple\", 20, 175.4]\n",
    "print(type(x))\n",
    "x =(\"apple\", 20, 1.2)\n",
    "print(type(x))\n",
    "x = {\"apple\", 10, \"cherry\"}\n",
    "print(type(x))\n",
    "x = {1:\"john\", 2:\"age\"}\n",
    "print(type(x))"
   ]
  },
  {
   "cell_type": "code",
   "execution_count": 31,
   "id": "45f7e5d2",
   "metadata": {},
   "outputs": [
    {
     "name": "stdout",
     "output_type": "stream",
     "text": [
      "<class 'range'>\n",
      "range(0, 6)\n"
     ]
    }
   ],
   "source": [
    "x = range(6)\n",
    "print(type(x))\n",
    "print(x)"
   ]
  },
  {
   "cell_type": "code",
   "execution_count": 36,
   "id": "d5597562",
   "metadata": {},
   "outputs": [
    {
     "name": "stdout",
     "output_type": "stream",
     "text": [
      "frozenset({'orange', 'banana', 'apple'})\n",
      "<class 'frozenset'>\n"
     ]
    }
   ],
   "source": [
    "x = frozenset({\"apple\", \"banana\", \"orange\"})\n",
    "print(x)\n",
    "print(type(x))"
   ]
  },
  {
   "cell_type": "code",
   "execution_count": 37,
   "id": "04fd9b0c",
   "metadata": {},
   "outputs": [
    {
     "name": "stdout",
     "output_type": "stream",
     "text": [
      "b'hello'\n",
      "<class 'bytes'>\n"
     ]
    }
   ],
   "source": [
    "x = b\"hello\"\n",
    "print(x)\n",
    "print(type(x))"
   ]
  },
  {
   "cell_type": "code",
   "execution_count": 35,
   "id": "492a13ca",
   "metadata": {},
   "outputs": [
    {
     "name": "stdout",
     "output_type": "stream",
     "text": [
      "bytearray(b'\\x00\\x00\\x00\\x00\\x00')\n",
      "<class 'bytearray'>\n"
     ]
    }
   ],
   "source": [
    "x = bytearray(5)\n",
    "print(x)\n",
    "print(type(x))"
   ]
  },
  {
   "cell_type": "code",
   "execution_count": 38,
   "id": "528bfa60",
   "metadata": {},
   "outputs": [
    {
     "name": "stdout",
     "output_type": "stream",
     "text": [
      "<memory at 0x0000029E03A27AC0>\n",
      "<class 'memoryview'>\n"
     ]
    }
   ],
   "source": [
    "x = memoryview(bytes(5))\n",
    "print(x)\n",
    "print(type(x))"
   ]
  },
  {
   "cell_type": "code",
   "execution_count": 39,
   "id": "eac4cb08",
   "metadata": {},
   "outputs": [
    {
     "name": "stdout",
     "output_type": "stream",
     "text": [
      "None\n",
      "<class 'NoneType'>\n"
     ]
    }
   ],
   "source": [
    "x = None\n",
    "print(x)\n",
    "print(type(x))"
   ]
  },
  {
   "cell_type": "markdown",
   "id": "bde8386e",
   "metadata": {},
   "source": [
    "### Setting the specific data type"
   ]
  },
  {
   "cell_type": "code",
   "execution_count": 40,
   "id": "b2872517",
   "metadata": {},
   "outputs": [
    {
     "name": "stdout",
     "output_type": "stream",
     "text": [
      "hello world\n",
      "1j\n",
      "range(0, 6)\n",
      "True\n"
     ]
    }
   ],
   "source": [
    "x = str(\"hello world\")\n",
    "print(x)\n",
    "x = complex(1J)\n",
    "print(x)\n",
    "x = range(6)\n",
    "print(x)\n",
    "x = bool(5)\n",
    "print(x)"
   ]
  },
  {
   "cell_type": "markdown",
   "id": "90f1ee73",
   "metadata": {},
   "source": [
    "# 4.Python Numbers"
   ]
  },
  {
   "cell_type": "code",
   "execution_count": 41,
   "id": "578d5484",
   "metadata": {},
   "outputs": [
    {
     "name": "stdout",
     "output_type": "stream",
     "text": [
      "<class 'int'>\n",
      "<class 'int'>\n",
      "<class 'int'>\n"
     ]
    }
   ],
   "source": [
    "# int, whole number, positve or negative, of ublimitd length\n",
    "x = 1\n",
    "print(type(x))\n",
    "\n",
    "y = 12345678901234567899\n",
    "print(type(x))\n",
    "\n",
    "x = -123456789\n",
    "print(type(x))"
   ]
  },
  {
   "cell_type": "code",
   "execution_count": 43,
   "id": "e8ce6316",
   "metadata": {},
   "outputs": [
    {
     "name": "stdout",
     "output_type": "stream",
     "text": [
      "<class 'float'>\n",
      "<class 'float'>\n",
      "<class 'float'>\n",
      "<class 'float'>\n",
      "<class 'float'>\n"
     ]
    }
   ],
   "source": [
    "# float, contaning one or more decimale, can be positive and negative\n",
    "x =1.10\n",
    "print(type(x))\n",
    "\n",
    "x = -1.123456789\n",
    "print(type(x))\n",
    "\n",
    "x =35e3\n",
    "print(type(x))\n",
    "\n",
    "x = 35E3\n",
    "print(type(x))\n",
    "\n",
    "x = -45.1e100\n",
    "print(type(x))"
   ]
  },
  {
   "cell_type": "code",
   "execution_count": 44,
   "id": "726183f1",
   "metadata": {},
   "outputs": [
    {
     "name": "stdout",
     "output_type": "stream",
     "text": [
      "<class 'complex'>\n",
      "<class 'complex'>\n",
      "<class 'complex'>\n"
     ]
    }
   ],
   "source": [
    "# complex number, written with j, as imaginary part\n",
    "x = 3+5j\n",
    "print(type(x))\n",
    "\n",
    "x = 5j\n",
    "print(type(x))\n",
    "\n",
    "x = -5j\n",
    "print(type(x))"
   ]
  },
  {
   "cell_type": "markdown",
   "id": "f031c8c2",
   "metadata": {},
   "source": [
    "### Type convertion"
   ]
  },
  {
   "cell_type": "code",
   "execution_count": 46,
   "id": "4d575821",
   "metadata": {},
   "outputs": [
    {
     "name": "stdout",
     "output_type": "stream",
     "text": [
      "1.0\n",
      "2.8\n",
      "(1+0j)\n"
     ]
    }
   ],
   "source": [
    "x, y, z = 1, 2.8, 1j\n",
    "a = float(x)\n",
    "print(a)\n",
    "\n",
    "b = int(y)\n",
    "print(y)\n",
    "\n",
    "c = complex(x)\n",
    "print(c)\n",
    "\n",
    "# d = int(z)\n",
    "# print(d)\n",
    "\n",
    "# Can't convert from complex to any number\n"
   ]
  },
  {
   "cell_type": "code",
   "execution_count": 49,
   "id": "84dec2d7",
   "metadata": {},
   "outputs": [
    {
     "name": "stdout",
     "output_type": "stream",
     "text": [
      "1\n",
      "2\n",
      "3\n",
      "1.0\n",
      "2.8\n",
      "3.0\n",
      "4.2\n",
      "s1\n",
      "2\n",
      "3.0\n"
     ]
    }
   ],
   "source": [
    "# int\n",
    "x = int(1)   # x will be 1\n",
    "print(x)\n",
    "y = int(2.8) \n",
    "print(y)\n",
    "z = int(\"3\") \n",
    "print(z)\n",
    "\n",
    "# float\n",
    "x = float(1)     # x will be 1.0\n",
    "print(x)\n",
    "y = float(2.8)  \n",
    "print(y)\n",
    "z = float(\"3\")  \n",
    "print(z)\n",
    "w = float(\"4.2\") \n",
    "print(w)\n",
    "\n",
    "#str\n",
    "x = str(\"s1\") \n",
    "print(x)\n",
    "y = str(2)    \n",
    "print(y)\n",
    "z = str(3.0)  # z will be '3.0'\n",
    "print(z)"
   ]
  },
  {
   "cell_type": "markdown",
   "id": "5e101265",
   "metadata": {},
   "source": [
    "### Random number"
   ]
  },
  {
   "cell_type": "code",
   "execution_count": 48,
   "id": "e2ff30a3",
   "metadata": {},
   "outputs": [
    {
     "name": "stdout",
     "output_type": "stream",
     "text": [
      "3\n"
     ]
    }
   ],
   "source": [
    "import random\n",
    "print(random.randrange(1, 10))"
   ]
  },
  {
   "cell_type": "markdown",
   "id": "dd0a5a8e",
   "metadata": {},
   "source": [
    "# 5.Strings"
   ]
  },
  {
   "cell_type": "code",
   "execution_count": 50,
   "id": "96ec348b",
   "metadata": {},
   "outputs": [
    {
     "name": "stdout",
     "output_type": "stream",
     "text": [
      "hello hello\n"
     ]
    }
   ],
   "source": [
    "a = \"hello\"\n",
    "b = 'hello'\n",
    "print(a, b)"
   ]
  },
  {
   "cell_type": "code",
   "execution_count": 54,
   "id": "79f9995f",
   "metadata": {},
   "outputs": [
    {
     "name": "stdout",
     "output_type": "stream",
     "text": [
      "e\n",
      "13\n"
     ]
    }
   ],
   "source": [
    "a = 'hello, world!'\n",
    "print(a[1])\n",
    "print(len(a))"
   ]
  },
  {
   "cell_type": "markdown",
   "id": "4a94772d",
   "metadata": {},
   "source": [
    "### multiline string"
   ]
  },
  {
   "cell_type": "code",
   "execution_count": 51,
   "id": "5de2e6fe",
   "metadata": {},
   "outputs": [
    {
     "name": "stdout",
     "output_type": "stream",
     "text": [
      "\n",
      "twinkle twinklw little star\n",
      "rain rain go away\n",
      "come again another day\n",
      "\n"
     ]
    }
   ],
   "source": [
    "a = \"\"\"\n",
    "twinkle twinklw little star\n",
    "rain rain go away\n",
    "come again another day\n",
    "\"\"\"\n",
    "print(a)"
   ]
  },
  {
   "cell_type": "markdown",
   "id": "888d51ca",
   "metadata": {},
   "source": [
    "### looping througn string"
   ]
  },
  {
   "cell_type": "code",
   "execution_count": 53,
   "id": "e78a8a08",
   "metadata": {},
   "outputs": [
    {
     "name": "stdout",
     "output_type": "stream",
     "text": [
      "s\n",
      "a\n",
      "m\n",
      "m\n",
      "a\n",
      "n\n"
     ]
    }
   ],
   "source": [
    "for x in \"samman\":\n",
    "    print(x)"
   ]
  },
  {
   "cell_type": "code",
   "execution_count": 56,
   "id": "a4ad076f",
   "metadata": {},
   "outputs": [
    {
     "name": "stdout",
     "output_type": "stream",
     "text": [
      "True\n",
      "Yes\n"
     ]
    }
   ],
   "source": [
    "txt = \" The best thing in life are free\"\n",
    "print(\"free\" in txt)\n",
    "if \"free\" in txt:\n",
    "    print(\"Yes\")"
   ]
  },
  {
   "cell_type": "markdown",
   "id": "85f73cca",
   "metadata": {},
   "source": [
    "### Slice"
   ]
  },
  {
   "cell_type": "code",
   "execution_count": 57,
   "id": "b2ff5d88",
   "metadata": {},
   "outputs": [
    {
     "name": "stdout",
     "output_type": "stream",
     "text": [
      "llo\n",
      "hello\n",
      "ello, world!\n",
      "orl\n"
     ]
    }
   ],
   "source": [
    "b = \"hello, world!\"\n",
    "print(b[2:5])\n",
    "print(b[:5])\n",
    "print(b[1:])\n",
    "\n",
    "# negative indexing\n",
    "print(b[-5:-2])"
   ]
  },
  {
   "cell_type": "markdown",
   "id": "7ff75e3c",
   "metadata": {},
   "source": [
    "### Modify"
   ]
  },
  {
   "cell_type": "code",
   "execution_count": 62,
   "id": "2a759801",
   "metadata": {},
   "outputs": [
    {
     "name": "stdout",
     "output_type": "stream",
     "text": [
      "HELLO, WORLD!\n",
      "hello, world!\n",
      "Hello, World!\n",
      "jello, World!\n",
      "['Hello,', 'World!']\n",
      "['Hello', ' World!']\n"
     ]
    }
   ],
   "source": [
    "a = \"Hello, World!\"\n",
    "print(a.upper())\n",
    "print(a.lower())\n",
    "print(a.strip()) # remove, from the begining, or the end\n",
    "print(a.replace(\"H\", 'j'))\n",
    "print(a.split(\" \"))\n",
    "print(a.split(\",\"))"
   ]
  },
  {
   "cell_type": "markdown",
   "id": "8851906e",
   "metadata": {},
   "source": [
    "### Concatenation"
   ]
  },
  {
   "cell_type": "code",
   "execution_count": 64,
   "id": "7664c9bd",
   "metadata": {},
   "outputs": [
    {
     "name": "stdout",
     "output_type": "stream",
     "text": [
      "helloworld\n",
      "hello world\n"
     ]
    }
   ],
   "source": [
    "a = \"hello\"\n",
    "b = \"world\"\n",
    "print(a+b)\n",
    "print(a+\" \"+b)"
   ]
  },
  {
   "cell_type": "markdown",
   "id": "22e49000",
   "metadata": {},
   "source": [
    "### Format"
   ]
  },
  {
   "cell_type": "code",
   "execution_count": 65,
   "id": "a4f19da6",
   "metadata": {},
   "outputs": [
    {
     "name": "stdout",
     "output_type": "stream",
     "text": [
      "My name is John, I am 36\n"
     ]
    }
   ],
   "source": [
    "age = 36\n",
    "txt = \"My name is John, I am {}\"\n",
    "print(txt.format(age))"
   ]
  },
  {
   "cell_type": "code",
   "execution_count": 67,
   "id": "cf440e76",
   "metadata": {},
   "outputs": [
    {
     "name": "stdout",
     "output_type": "stream",
     "text": [
      "i want this jod with age 20 and salary 100000\n"
     ]
    }
   ],
   "source": [
    "age = 20\n",
    "salary = 100000\n",
    "job = \"i want this jod with age {} and salary {}\"\n",
    "print(job.format(age, salary))"
   ]
  },
  {
   "cell_type": "code",
   "execution_count": 68,
   "id": "9b988fbf",
   "metadata": {},
   "outputs": [
    {
     "name": "stdout",
     "output_type": "stream",
     "text": [
      "I want to pay 49.95 dollars for 3 pieces of item 567.\n"
     ]
    }
   ],
   "source": [
    "quantity = 3\n",
    "itemno = 567\n",
    "price = 49.95\n",
    "myorder = \"I want to pay {2} dollars for {0} pieces of item {1}.\"\n",
    "print(myorder.format(quantity, itemno, price)) "
   ]
  },
  {
   "cell_type": "markdown",
   "id": "9dc48277",
   "metadata": {},
   "source": [
    "### Escape Character"
   ]
  },
  {
   "cell_type": "code",
   "execution_count": 69,
   "id": "7e614187",
   "metadata": {},
   "outputs": [
    {
     "name": "stdout",
     "output_type": "stream",
     "text": [
      "It's alright\n"
     ]
    }
   ],
   "source": [
    "txt = \"It\\'s alright\"\n",
    "print(txt)"
   ]
  },
  {
   "cell_type": "code",
   "execution_count": 70,
   "id": "65d2486f",
   "metadata": {},
   "outputs": [
    {
     "name": "stdout",
     "output_type": "stream",
     "text": [
      "It\\s alright\n"
     ]
    }
   ],
   "source": [
    "txt = \"It\\\\s alright\"\n",
    "print(txt)"
   ]
  },
  {
   "cell_type": "code",
   "execution_count": 71,
   "id": "89282ef9",
   "metadata": {},
   "outputs": [
    {
     "name": "stdout",
     "output_type": "stream",
     "text": [
      "It\n",
      " s alright\n"
     ]
    }
   ],
   "source": [
    "txt = \"It\\n s alright\"\n",
    "print(txt)"
   ]
  },
  {
   "cell_type": "code",
   "execution_count": 72,
   "id": "8ae9d334",
   "metadata": {},
   "outputs": [
    {
     "name": "stdout",
     "output_type": "stream",
     "text": [
      "hello\r",
      "world\n"
     ]
    }
   ],
   "source": [
    "txt = 'hello\\rworld'\n",
    "print(txt)"
   ]
  },
  {
   "cell_type": "code",
   "execution_count": 73,
   "id": "19622a2f",
   "metadata": {},
   "outputs": [
    {
     "name": "stdout",
     "output_type": "stream",
     "text": [
      "hello\tworld\n"
     ]
    }
   ],
   "source": [
    "txt = 'hello\\tworld'\n",
    "print(txt)"
   ]
  },
  {
   "cell_type": "code",
   "execution_count": 76,
   "id": "aafe367b",
   "metadata": {},
   "outputs": [
    {
     "name": "stdout",
     "output_type": "stream",
     "text": [
      "hello \bworld\n"
     ]
    }
   ],
   "source": [
    "txt = 'hello \\bworld'\n",
    "print(txt)"
   ]
  },
  {
   "cell_type": "code",
   "execution_count": 78,
   "id": "ef7a545a",
   "metadata": {},
   "outputs": [
    {
     "name": "stdout",
     "output_type": "stream",
     "text": [
      "S\n"
     ]
    }
   ],
   "source": [
    "txt = \"\\123\"\n",
    "print(txt)"
   ]
  },
  {
   "cell_type": "code",
   "execution_count": 84,
   "id": "13ad2480",
   "metadata": {},
   "outputs": [
    {
     "name": "stdout",
     "output_type": "stream",
     "text": [
      "]\n"
     ]
    }
   ],
   "source": [
    "txt = \"\\x5d\"\n",
    "print(txt)"
   ]
  },
  {
   "cell_type": "markdown",
   "id": "7f122a28",
   "metadata": {},
   "source": [
    "### string Method"
   ]
  },
  {
   "cell_type": "code",
   "execution_count": 86,
   "id": "04634195",
   "metadata": {},
   "outputs": [
    {
     "name": "stdout",
     "output_type": "stream",
     "text": [
      "This is python course\n"
     ]
    }
   ],
   "source": [
    "# capitalized method\n",
    "txt = \"this is python course\"\n",
    "x = txt.capitalize()\n",
    "\n",
    "print(x)"
   ]
  },
  {
   "cell_type": "code",
   "execution_count": 87,
   "id": "ecc686b6",
   "metadata": {},
   "outputs": [
    {
     "name": "stdout",
     "output_type": "stream",
     "text": [
      "hello, and welcome to my world!\n"
     ]
    }
   ],
   "source": [
    "# casefold method\n",
    "txt = \"Hello, And Welcome To My World!\"\n",
    "x = txt.casefold()\n",
    "\n",
    "print(x)"
   ]
  },
  {
   "cell_type": "code",
   "execution_count": 89,
   "id": "738ae191",
   "metadata": {},
   "outputs": [
    {
     "name": "stdout",
     "output_type": "stream",
     "text": [
      "                      samman                      \n",
      "OOOOOOOsammanOOOOOOO\n"
     ]
    }
   ],
   "source": [
    "# center method \n",
    "txt = \"samman\"\n",
    "x = txt.center(50)\n",
    "y = txt.center(20, \"O\")\n",
    "\n",
    "print(x)\n",
    "print(y)"
   ]
  },
  {
   "cell_type": "code",
   "execution_count": 91,
   "id": "8493cac1",
   "metadata": {},
   "outputs": [
    {
     "name": "stdout",
     "output_type": "stream",
     "text": [
      "2\n",
      "1\n"
     ]
    }
   ],
   "source": [
    "# count method\n",
    "txt = \"I love apples, apple are my favorite fruit\"\n",
    "x = txt.count(\"apple\")\n",
    "y = txt.count(\"apple\", 10, 24)\n",
    "\n",
    "print(x)\n",
    "print(y)"
   ]
  },
  {
   "cell_type": "code",
   "execution_count": 92,
   "id": "14f7b8cb",
   "metadata": {},
   "outputs": [
    {
     "name": "stdout",
     "output_type": "stream",
     "text": [
      "b'My name is St\\xc3\\xa5le'\n"
     ]
    }
   ],
   "source": [
    "# encode method\n",
    "txt = \"My name is Ståle\"\n",
    "x = txt.encode()\n",
    "\n",
    "print(x)"
   ]
  },
  {
   "cell_type": "code",
   "execution_count": 3,
   "id": "07c76c07",
   "metadata": {},
   "outputs": [
    {
     "name": "stdout",
     "output_type": "stream",
     "text": [
      "True\n",
      "True\n",
      "False\n"
     ]
    }
   ],
   "source": [
    "# endswith method\n",
    "txt = \"hello, welcome to my world.\"\n",
    "x = txt.endswith(\".\")\n",
    "y = txt.endswith(\"my world.\")\n",
    "z = txt.endswith(\"my world.\", 5, 11)\n",
    "\n",
    "print(y)\n",
    "print(x)\n",
    "print(z)"
   ]
  },
  {
   "cell_type": "code",
   "execution_count": 43,
   "id": "e329113e",
   "metadata": {},
   "outputs": [
    {
     "name": "stdout",
     "output_type": "stream",
     "text": [
      "True\n"
     ]
    }
   ],
   "source": [
    "# startswith method\n",
    "txt = \"Hello, welcome to my world.\"\n",
    "x = txt.startswith(\"wel\", 7, 20)\n",
    "\n",
    "print(x)"
   ]
  },
  {
   "cell_type": "code",
   "execution_count": 9,
   "id": "4b42c1e8",
   "metadata": {},
   "outputs": [
    {
     "name": "stdout",
     "output_type": "stream",
     "text": [
      "h\te\tl\tl\to\n",
      "h       e       l       l       o\n",
      "h   e   l   l   o\n",
      "h         e         l         l         o\n"
     ]
    }
   ],
   "source": [
    "# expandtab method\n",
    "txt = \"h\\te\\tl\\tl\\to\"\n",
    "\n",
    "print(txt)\n",
    "print(txt.expandtabs())\n",
    "print(txt.expandtabs(4))\n",
    "print(txt.expandtabs(10))"
   ]
  },
  {
   "cell_type": "code",
   "execution_count": 12,
   "id": "bb0c2b92",
   "metadata": {},
   "outputs": [
    {
     "name": "stdout",
     "output_type": "stream",
     "text": [
      "7 2 8\n"
     ]
    }
   ],
   "source": [
    "# find method\n",
    "txt = \"hello, welcome to my world\"\n",
    "x = txt.find(\"welcome\")\n",
    "y = txt.find(\"l\")\n",
    "z = txt.find(\"e\", 5, 10)\n",
    "\n",
    "print(x, y, z)"
   ]
  },
  {
   "cell_type": "code",
   "execution_count": 13,
   "id": "a5def600",
   "metadata": {},
   "outputs": [
    {
     "name": "stdout",
     "output_type": "stream",
     "text": [
      "-1\n"
     ]
    }
   ],
   "source": [
    "# find method\n",
    "# if value not find then it return -1\n",
    "txt = \"hello, welcome to my world\"\n",
    "print(txt.find(\"q\"))"
   ]
  },
  {
   "cell_type": "code",
   "execution_count": 17,
   "id": "d39efaad",
   "metadata": {},
   "outputs": [
    {
     "name": "stdout",
     "output_type": "stream",
     "text": [
      "For only  49.00 dollers!\n"
     ]
    }
   ],
   "source": [
    "# format method\n",
    "txt = \"For only {price: .2f} dollers!\"\n",
    "print(txt.format(price = 49))"
   ]
  },
  {
   "cell_type": "code",
   "execution_count": 19,
   "id": "269c7bff",
   "metadata": {},
   "outputs": [
    {
     "name": "stdout",
     "output_type": "stream",
     "text": [
      "We have 49       chickens.\n",
      "We have       49 chickens.\n",
      "We have    49    chickens.\n",
      "The temperature is -      5 degrees celsius.\n",
      "The temperature is between -3 and +7 degrees celsius.\n",
      "The temperature is between -3 and  7 degrees celsius.\n"
     ]
    }
   ],
   "source": [
    "# format method\n",
    "txt = \"We have {:<8} chickens.\"\n",
    "print(txt.format(49))\n",
    "\n",
    "txt = \"We have {:>8} chickens.\"\n",
    "print(txt.format(49))\n",
    "\n",
    "txt = \"We have {:^8} chickens.\"\n",
    "print(txt.format(49))\n",
    "\n",
    "txt = \"The temperature is {:=8} degrees celsius.\"\n",
    "print(txt.format(-5))\n",
    "\n",
    "txt = \"The temperature is between {:+} and {:+} degrees celsius.\"\n",
    "print(txt.format(-3, 7))\n",
    "\n",
    "txt = \"The temperature is between {: } and {: } degrees celsius.\"\n",
    "print(txt.format(-3, 7))"
   ]
  },
  {
   "cell_type": "code",
   "execution_count": 21,
   "id": "b3d88020",
   "metadata": {},
   "outputs": [
    {
     "name": "stdout",
     "output_type": "stream",
     "text": [
      "The universe is 13,800,000,000 years old.\n",
      "The universe is 13_800_000_000 years old.\n"
     ]
    }
   ],
   "source": [
    "# format method\n",
    "txt = \"The universe is {:,} years old.\"\n",
    "print(txt.format(13800000000))\n",
    "\n",
    "txt = \"The universe is {:_} years old.\"\n",
    "print(txt.format(13800000000))"
   ]
  },
  {
   "cell_type": "code",
   "execution_count": 22,
   "id": "3cd6395a",
   "metadata": {},
   "outputs": [
    {
     "name": "stdout",
     "output_type": "stream",
     "text": [
      "The binary version of 5 is 101\n",
      "We have 5 chickens.\n",
      "We have 5.000000E+00 chickens.\n",
      "We have 5.000000e+00 chickens.\n"
     ]
    }
   ],
   "source": [
    "# format method\n",
    "txt = \"The binary version of {0} is {0:b}\"\n",
    "print(txt.format(5))\n",
    "\n",
    "txt = \"We have {:d} chickens.\"\n",
    "print(txt.format(0b101))\n",
    "\n",
    "txt = \"We have {:E} chickens.\"\n",
    "print(txt.format(5))\n",
    "\n",
    "txt = \"We have {:e} chickens.\"\n",
    "print(txt.format(5))"
   ]
  },
  {
   "cell_type": "code",
   "execution_count": 23,
   "id": "7d8ad666",
   "metadata": {},
   "outputs": [
    {
     "name": "stdout",
     "output_type": "stream",
     "text": [
      "The octal version of 10 is 12\n",
      "The Hexadecimal version of 255 is ff\n",
      "The Hexadecimal version of 255 is FF\n",
      "You scored 25.000000%\n",
      "You scored 25%\n"
     ]
    }
   ],
   "source": [
    "# format method\n",
    "txt = \"The octal version of {0} is {0:o}\"\n",
    "print(txt.format(10))\n",
    "\n",
    "txt = \"The Hexadecimal version of {0} is {0:x}\"\n",
    "print(txt.format(255))\n",
    "\n",
    "txt = \"The Hexadecimal version of {0} is {0:X}\"\n",
    "print(txt.format(255))\n",
    "\n",
    "txt = \"You scored {:%}\"\n",
    "print(txt.format(0.25))\n",
    "\n",
    "txt = \"You scored {:.0%}\"\n",
    "print(txt.format(0.25))"
   ]
  },
  {
   "cell_type": "code",
   "execution_count": 24,
   "id": "7c43d04f",
   "metadata": {},
   "outputs": [
    {
     "name": "stdout",
     "output_type": "stream",
     "text": [
      "8\n",
      "7\n"
     ]
    }
   ],
   "source": [
    "# index method\n",
    "txt = \"Hello, welcome to my world.\"\n",
    "x = txt.index(\"e\", 5, 10)\n",
    "y = txt.index(\"welcome\")\n",
    "\n",
    "print(x)\n",
    "print(y)"
   ]
  },
  {
   "cell_type": "code",
   "execution_count": 1,
   "id": "fc1dba65",
   "metadata": {},
   "outputs": [
    {
     "name": "stdout",
     "output_type": "stream",
     "text": [
      "True\n",
      "False\n"
     ]
    }
   ],
   "source": [
    "# isalnum method\n",
    "\n",
    "txt = \"company12\"\n",
    "txt_2 = \"company 12\"\n",
    "\n",
    "x = txt.isalnum()\n",
    "y = txt_2.isalnum()\n",
    "\n",
    "print(x)\n",
    "print(y)"
   ]
  },
  {
   "cell_type": "code",
   "execution_count": 2,
   "id": "c2e17d39",
   "metadata": {},
   "outputs": [
    {
     "name": "stdout",
     "output_type": "stream",
     "text": [
      "True\n"
     ]
    }
   ],
   "source": [
    "# isalpha method\n",
    "txt = \"companyX\"\n",
    "x = txt.isalpha()\n",
    "\n",
    "print(x)"
   ]
  },
  {
   "cell_type": "code",
   "execution_count": 3,
   "id": "84754a63",
   "metadata": {},
   "outputs": [
    {
     "name": "stdout",
     "output_type": "stream",
     "text": [
      "True\n"
     ]
    }
   ],
   "source": [
    "# isascii method\n",
    "txt = \"company123\"\n",
    "x = txt.isascii()\n",
    "\n",
    "print(x)"
   ]
  },
  {
   "cell_type": "code",
   "execution_count": 6,
   "id": "0efd0740",
   "metadata": {},
   "outputs": [
    {
     "name": "stdout",
     "output_type": "stream",
     "text": [
      "True\n",
      "False\n"
     ]
    }
   ],
   "source": [
    "# isdecimal method\n",
    "txt = \"124\"\n",
    "aax = \"123#\"\n",
    "x = txt.isdecimal()\n",
    "y = aax.isdecimal()\n",
    "\n",
    "print(x)\n",
    "print(y)"
   ]
  },
  {
   "cell_type": "code",
   "execution_count": 7,
   "id": "799e17da",
   "metadata": {},
   "outputs": [
    {
     "name": "stdout",
     "output_type": "stream",
     "text": [
      "True\n"
     ]
    }
   ],
   "source": [
    "# isdigit method\n",
    "txt = \"50800\"\n",
    "x = txt.isdigit()\n",
    "\n",
    "print(x)"
   ]
  },
  {
   "cell_type": "code",
   "execution_count": 9,
   "id": "fcb2c1e5",
   "metadata": {},
   "outputs": [
    {
     "name": "stdout",
     "output_type": "stream",
     "text": [
      "True\n"
     ]
    }
   ],
   "source": [
    "# isidentifier method\n",
    "txt = \"Demo\"\n",
    "x = txt.isidentifier()\n",
    "\n",
    "print(x)"
   ]
  },
  {
   "cell_type": "code",
   "execution_count": 10,
   "id": "49d32e0c",
   "metadata": {},
   "outputs": [
    {
     "name": "stdout",
     "output_type": "stream",
     "text": [
      "True True\n"
     ]
    }
   ],
   "source": [
    "# islower method\n",
    "txt = \"hello world!\"\n",
    "b = \"hello 123\"\n",
    "x = txt.islower()\n",
    "b = txt.islower()\n",
    "\n",
    "print(b, x)"
   ]
  },
  {
   "cell_type": "code",
   "execution_count": 11,
   "id": "be0f398b",
   "metadata": {},
   "outputs": [
    {
     "name": "stdout",
     "output_type": "stream",
     "text": [
      "True\n",
      "True\n",
      "False\n",
      "False\n",
      "False\n"
     ]
    }
   ],
   "source": [
    "# isnumeric method\n",
    "a = \"\\u0030\" #unicode for 0\n",
    "b = \"\\u00B2\" #unicode for ²\n",
    "c = \"10km2\"\n",
    "d = \"-1\"\n",
    "e = \"1.5\"\n",
    "\n",
    "print(a.isnumeric())\n",
    "print(b.isnumeric())\n",
    "print(c.isnumeric())\n",
    "print(d.isnumeric())\n",
    "print(e.isnumeric())"
   ]
  },
  {
   "cell_type": "code",
   "execution_count": 13,
   "id": "f162cf60",
   "metadata": {},
   "outputs": [
    {
     "name": "stdout",
     "output_type": "stream",
     "text": [
      "True\n",
      "False\n"
     ]
    }
   ],
   "source": [
    "# isprintable method\n",
    "txt = \"Hello! Are you #1?\"\n",
    "x = txt.isprintable()\n",
    "\n",
    "txt = \"Hello!\\nAre you #1?\"\n",
    "y = txt.isprintable()\n",
    "\n",
    "print(x)\n",
    "print(y)"
   ]
  },
  {
   "cell_type": "code",
   "execution_count": 14,
   "id": "d17f606e",
   "metadata": {},
   "outputs": [
    {
     "name": "stdout",
     "output_type": "stream",
     "text": [
      "True\n"
     ]
    }
   ],
   "source": [
    "# isspace method\n",
    "txt = \"       \"\n",
    "x =txt.isspace()\n",
    "\n",
    "print(x)"
   ]
  },
  {
   "cell_type": "code",
   "execution_count": 16,
   "id": "d30893f7",
   "metadata": {},
   "outputs": [
    {
     "name": "stdout",
     "output_type": "stream",
     "text": [
      "False\n",
      "True\n",
      "True\n",
      "True\n",
      "True\n"
     ]
    }
   ],
   "source": [
    "# istitle method\n",
    "txt = \" Is That A Title\"\n",
    "x = txt.istitle()\n",
    "a = \"HELLO, AND WELCOME TO MY WORLD\"\n",
    "b = \"Hello\"\n",
    "c = \"22 Names\"\n",
    "d = \"This Is %'!?\"\n",
    "\n",
    "print(a.istitle())\n",
    "print(b.istitle())\n",
    "print(c.istitle())\n",
    "print(d.istitle())\n",
    "print(x)"
   ]
  },
  {
   "cell_type": "code",
   "execution_count": 18,
   "id": "52774c60",
   "metadata": {},
   "outputs": [
    {
     "name": "stdout",
     "output_type": "stream",
     "text": [
      "True\n"
     ]
    }
   ],
   "source": [
    "# isupper method\n",
    "a = \"HELLO, AND WELCOME TO MY WORLD\"\n",
    "x =a.isupper()\n",
    "\n",
    "print(x)"
   ]
  },
  {
   "cell_type": "code",
   "execution_count": 19,
   "id": "b875f291",
   "metadata": {},
   "outputs": [
    {
     "name": "stdout",
     "output_type": "stream",
     "text": [
      "John#Peter#Vicky\n"
     ]
    }
   ],
   "source": [
    "# join method\n",
    "myTuple = (\"John\", \"Peter\", \"Vicky\")\n",
    "x = \"#\".join(myTuple)\n",
    "\n",
    "print(x)"
   ]
  },
  {
   "cell_type": "code",
   "execution_count": 22,
   "id": "c8168025",
   "metadata": {},
   "outputs": [
    {
     "name": "stdout",
     "output_type": "stream",
     "text": [
      "banana************** is my favorite fruit.\n"
     ]
    }
   ],
   "source": [
    "# ljust method\n",
    "\n",
    "txt = \"banana\"\n",
    "x = txt.ljust(20)\n",
    "x = txt.ljust(20, \"*\")\n",
    "\n",
    "print(x, \"is my favorite fruit.\")"
   ]
  },
  {
   "cell_type": "code",
   "execution_count": 23,
   "id": "f655cd14",
   "metadata": {},
   "outputs": [
    {
     "name": "stdout",
     "output_type": "stream",
     "text": [
      "of all fruits banana      is my favorite\n"
     ]
    }
   ],
   "source": [
    "# lstrip method\n",
    "\n",
    "txt = \"     banana     \"\n",
    "x = txt.lstrip()\n",
    "\n",
    "print(\"of all fruits\", x, \"is my favorite\")"
   ]
  },
  {
   "cell_type": "code",
   "execution_count": 45,
   "id": "1f3d5ef9",
   "metadata": {},
   "outputs": [
    {
     "name": "stdout",
     "output_type": "stream",
     "text": [
      "banana\n",
      "of all fruits banana is my favorite\n"
     ]
    }
   ],
   "source": [
    "# strip method\n",
    "txt = \"     banana     \"\n",
    "x = txt.strip()\n",
    "txt_2 = \",,,,,rrttgg.....banana....rrr\"\n",
    "\n",
    "y = txt_2.strip(\",.grt\")\n",
    "\n",
    "print(y)\n",
    "print(\"of all fruits\", x, \"is my favorite\")"
   ]
  },
  {
   "cell_type": "code",
   "execution_count": 24,
   "id": "e7a260db",
   "metadata": {},
   "outputs": [
    {
     "name": "stdout",
     "output_type": "stream",
     "text": [
      "Hello Pam!\n"
     ]
    }
   ],
   "source": [
    "# maketrans method\n",
    "txt = \"Hello Sam!\"\n",
    "mytable = str.maketrans(\"S\", \"P\")\n",
    "\n",
    "print(txt.translate(mytable))"
   ]
  },
  {
   "cell_type": "code",
   "execution_count": 25,
   "id": "b4ddc563",
   "metadata": {},
   "outputs": [
    {
     "name": "stdout",
     "output_type": "stream",
     "text": [
      "Hi Joe!\n"
     ]
    }
   ],
   "source": [
    "# maletrans method\n",
    "txt = \"Hi Sam!\"\n",
    "x = \"mSa\"\n",
    "y = \"eJo\"\n",
    "\n",
    "mytable = str.maketrans(x, y)\n",
    "print(txt.translate(mytable))\n"
   ]
  },
  {
   "cell_type": "code",
   "execution_count": 26,
   "id": "097c9b24",
   "metadata": {},
   "outputs": [
    {
     "name": "stdout",
     "output_type": "stream",
     "text": [
      "('I could eat ', 'bananas', ' all day')\n"
     ]
    }
   ],
   "source": [
    "# partition method\n",
    "txt = \"I could eat bananas all day\"\n",
    "x = txt.partition(\"bananas\")\n",
    "\n",
    "print(x)"
   ]
  },
  {
   "cell_type": "code",
   "execution_count": 27,
   "id": "924ce978",
   "metadata": {},
   "outputs": [
    {
     "name": "stdout",
     "output_type": "stream",
     "text": [
      "three three was a race horse, two two was three too.\n"
     ]
    }
   ],
   "source": [
    "# replace method\n",
    "txt = \"one one was a race horse, two two was one too.\"\n",
    "x = txt.replace(\"one\", \"three\")\n",
    "\n",
    "print(x)"
   ]
  },
  {
   "cell_type": "code",
   "execution_count": 28,
   "id": "36ae6331",
   "metadata": {},
   "outputs": [
    {
     "name": "stdout",
     "output_type": "stream",
     "text": [
      "three three was a race horse, two two was one too.\n"
     ]
    }
   ],
   "source": [
    "# replace method\n",
    "txt = \"one one was a race horse, two two was one too.\"\n",
    "x = txt.replace(\"one\", \"three\", 2)\n",
    "\n",
    "print(x)"
   ]
  },
  {
   "cell_type": "code",
   "execution_count": 29,
   "id": "39da9d9b",
   "metadata": {},
   "outputs": [
    {
     "name": "stdout",
     "output_type": "stream",
     "text": [
      "12\n"
     ]
    }
   ],
   "source": [
    "# rfind method\n",
    "txt = \"Mi casa, su casa.\"\n",
    "x = txt.rfind(\"casa\")\n",
    "\n",
    "print(x)"
   ]
  },
  {
   "cell_type": "code",
   "execution_count": 30,
   "id": "57d3f63f",
   "metadata": {},
   "outputs": [
    {
     "name": "stdout",
     "output_type": "stream",
     "text": [
      "              banana is my favorite fruit.\n"
     ]
    }
   ],
   "source": [
    "# rjust method\n",
    "txt = \"banana\"\n",
    "x = txt.rjust(20)\n",
    "\n",
    "print(x, \"is my favorite fruit.\")"
   ]
  },
  {
   "cell_type": "code",
   "execution_count": 31,
   "id": "f17d41e2",
   "metadata": {},
   "outputs": [
    {
     "name": "stdout",
     "output_type": "stream",
     "text": [
      "('I could eat bananas all day, ', 'bananas', ' are my favorite fruit')\n"
     ]
    }
   ],
   "source": [
    "# rpartition method\n",
    "txt = \"I could eat bananas all day, bananas are my favorite fruit\"\n",
    "x = txt.rpartition(\"bananas\")\n",
    "\n",
    "print(x)"
   ]
  },
  {
   "cell_type": "code",
   "execution_count": 35,
   "id": "5f0a2194",
   "metadata": {},
   "outputs": [
    {
     "name": "stdout",
     "output_type": "stream",
     "text": [
      "['apple, banana', 'cherry']\n",
      "['apple', ' banana', ' cherry']\n"
     ]
    }
   ],
   "source": [
    "# rsplit method\n",
    "txt = \"apple, banana, cherry\"\n",
    "y = txt.rsplit(\",\")\n",
    "x = txt.rsplit(\", \", 1)\n",
    "\n",
    "print(x)\n",
    "print(y)"
   ]
  },
  {
   "cell_type": "code",
   "execution_count": 36,
   "id": "daec7b99",
   "metadata": {},
   "outputs": [
    {
     "name": "stdout",
     "output_type": "stream",
     "text": [
      "['welcome', 'to', 'the', 'jungle', 'book']\n"
     ]
    }
   ],
   "source": [
    "# split method\n",
    "txt = \"welcome to the jungle book\"\n",
    "x = txt.split()\n",
    "\n",
    "print(x)"
   ]
  },
  {
   "cell_type": "code",
   "execution_count": 38,
   "id": "3d4a969e",
   "metadata": {},
   "outputs": [
    {
     "name": "stdout",
     "output_type": "stream",
     "text": [
      "['hello', 'my name is Peter', 'I am 26 years old']\n",
      "['apple', 'banana', 'cherry', 'orange']\n"
     ]
    }
   ],
   "source": [
    "# split metod\n",
    "txt = \"hello, my name is Peter, I am 26 years old\"\n",
    "txt_2 = \"apple#banana#cherry#orange\"\n",
    "\n",
    "x = txt.split(\", \")\n",
    "y = txt_2.split(\"#\")\n",
    "\n",
    "print(x)\n",
    "print(y)"
   ]
  },
  {
   "cell_type": "code",
   "execution_count": 42,
   "id": "a4e0fa18",
   "metadata": {},
   "outputs": [
    {
     "name": "stdout",
     "output_type": "stream",
     "text": [
      "['Thank you a lot', ' You are a great singer']\n",
      "['Thank you a lot\\n', ' You are a great singer\\n']\n"
     ]
    }
   ],
   "source": [
    "# splitlines method\n",
    "txt = \"Thank you a lot\\n You are a great singer\\n\"\n",
    "x = txt.splitlines()\n",
    "y = txt.splitlines(True)\n",
    "\n",
    "print(x)\n",
    "print(y)"
   ]
  },
  {
   "cell_type": "code",
   "execution_count": 46,
   "id": "268b8097",
   "metadata": {},
   "outputs": [
    {
     "name": "stdout",
     "output_type": "stream",
     "text": [
      "hELLO, mY NAME IS PETEr\n"
     ]
    }
   ],
   "source": [
    "# swapcase method\n",
    "txt = \"Hello, My name is peteR\"\n",
    "x =txt.swapcase()\n",
    "\n",
    "print(x)"
   ]
  },
  {
   "cell_type": "code",
   "execution_count": 48,
   "id": "8e2f32ea",
   "metadata": {},
   "outputs": [
    {
     "name": "stdout",
     "output_type": "stream",
     "text": [
      "Hellow, It'S Me\n"
     ]
    }
   ],
   "source": [
    "# title method\n",
    "txt = \"hellow, it\\'s me\"\n",
    "x = txt.title()\n",
    "\n",
    "print(x)"
   ]
  },
  {
   "cell_type": "code",
   "execution_count": 49,
   "id": "354b4b19",
   "metadata": {},
   "outputs": [
    {
     "name": "stdout",
     "output_type": "stream",
     "text": [
      "0000000050\n"
     ]
    }
   ],
   "source": [
    "# zfill method\n",
    "txt = \"50\"\n",
    "x = txt.zfill(10)\n",
    "\n",
    "print(x)"
   ]
  },
  {
   "cell_type": "markdown",
   "id": "0a22ef5b",
   "metadata": {},
   "source": [
    "# 6.Boolean"
   ]
  },
  {
   "cell_type": "code",
   "execution_count": 50,
   "id": "c1272831",
   "metadata": {},
   "outputs": [
    {
     "name": "stdout",
     "output_type": "stream",
     "text": [
      "True\n",
      "False\n"
     ]
    }
   ],
   "source": [
    "print(10>9)\n",
    "print(10<9)"
   ]
  },
  {
   "cell_type": "code",
   "execution_count": 51,
   "id": "f9973e30",
   "metadata": {},
   "outputs": [
    {
     "name": "stdout",
     "output_type": "stream",
     "text": [
      "False\n",
      "False\n",
      "False\n",
      "False\n",
      "False\n",
      "False\n",
      "False\n"
     ]
    }
   ],
   "source": [
    "# invalid use of bool\n",
    "print(bool(False))\n",
    "print(bool(None))\n",
    "print(bool(0))\n",
    "print(bool(\"\"))\n",
    "print(bool(()))\n",
    "print(bool([]))\n",
    "print(bool({}))"
   ]
  },
  {
   "cell_type": "code",
   "execution_count": 52,
   "id": "95d7f89a",
   "metadata": {},
   "outputs": [
    {
     "name": "stdout",
     "output_type": "stream",
     "text": [
      "True\n"
     ]
    }
   ],
   "source": [
    "def myFunction() :\n",
    "  return True\n",
    "\n",
    "print(myFunction())"
   ]
  },
  {
   "cell_type": "markdown",
   "id": "464243c5",
   "metadata": {},
   "source": [
    "# 7.Operator"
   ]
  },
  {
   "cell_type": "markdown",
   "id": "c50066e5",
   "metadata": {},
   "source": [
    "### Arithmatic operator"
   ]
  },
  {
   "cell_type": "code",
   "execution_count": 53,
   "id": "5f149132",
   "metadata": {},
   "outputs": [
    {
     "name": "stdout",
     "output_type": "stream",
     "text": [
      "120\n",
      "80\n",
      "2000\n",
      "5.0\n",
      "10000000000000000000000000000000000000000\n",
      "5\n",
      "0\n"
     ]
    }
   ],
   "source": [
    "x = 100\n",
    "y = 20\n",
    "\n",
    "print(x+y)\n",
    "print(x-y)\n",
    "print(x*y)\n",
    "print(x/y)\n",
    "print(x**y)\n",
    "print(x//y)\n",
    "print(x%y)"
   ]
  },
  {
   "cell_type": "markdown",
   "id": "0e5d46fa",
   "metadata": {},
   "source": [
    "### assignment operator"
   ]
  },
  {
   "cell_type": "code",
   "execution_count": 54,
   "id": "1ff4510c",
   "metadata": {},
   "outputs": [
    {
     "name": "stdout",
     "output_type": "stream",
     "text": [
      "13\n",
      "10\n",
      "3\n"
     ]
    }
   ],
   "source": [
    "x = 10\n",
    "x+=3\n",
    "print(x)\n",
    "\n",
    "x-=3\n",
    "print(x)\n",
    "\n",
    "x//=3\n",
    "print(x)"
   ]
  },
  {
   "cell_type": "markdown",
   "id": "5153f400",
   "metadata": {},
   "source": [
    "### logical operator"
   ]
  },
  {
   "cell_type": "code",
   "execution_count": 56,
   "id": "b801551c",
   "metadata": {},
   "outputs": [
    {
     "name": "stdout",
     "output_type": "stream",
     "text": [
      "True\n",
      "False\n",
      "True\n"
     ]
    }
   ],
   "source": [
    "x = 5\n",
    "print(x > 3 and x < 10)\n",
    "print(x<2 or x<4)\n",
    "print(not(x<2 and x<10))"
   ]
  },
  {
   "cell_type": "code",
   "execution_count": null,
   "id": "87cc2894",
   "metadata": {},
   "outputs": [],
   "source": [
    "# identity operator"
   ]
  }
 ],
 "metadata": {
  "kernelspec": {
   "display_name": "Python 3 (ipykernel)",
   "language": "python",
   "name": "python3"
  },
  "language_info": {
   "codemirror_mode": {
    "name": "ipython",
    "version": 3
   },
   "file_extension": ".py",
   "mimetype": "text/x-python",
   "name": "python",
   "nbconvert_exporter": "python",
   "pygments_lexer": "ipython3",
   "version": "3.9.7"
  }
 },
 "nbformat": 4,
 "nbformat_minor": 5
}
