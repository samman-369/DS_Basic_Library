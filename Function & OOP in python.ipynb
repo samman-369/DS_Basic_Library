{
 "cells": [
  {
   "cell_type": "markdown",
   "id": "e607b6cf",
   "metadata": {},
   "source": [
    "# conditional statement"
   ]
  },
  {
   "cell_type": "code",
   "execution_count": 5,
   "id": "cba626f3",
   "metadata": {},
   "outputs": [
    {
     "name": "stdout",
     "output_type": "stream",
     "text": [
      "Yes b is greater\n",
      "Is'n it funny\n"
     ]
    }
   ],
   "source": [
    "a = 10\n",
    "b = 20\n",
    "\n",
    "if b>a:\n",
    "    print(\"Yes b is greater\")\n",
    "    \n",
    "# one line if statement\n",
    "if b>a: print(\"Is'n it funny\")"
   ]
  },
  {
   "cell_type": "code",
   "execution_count": 2,
   "id": "b08045da",
   "metadata": {},
   "outputs": [
    {
     "name": "stdout",
     "output_type": "stream",
     "text": [
      "Enter a:10\n",
      "Enter b:20\n",
      "b is greater then a\n"
     ]
    }
   ],
   "source": [
    "a = int(input(\"Enter a:\"))\n",
    "b = int(input(\"Enter b:\"))\n",
    "\n",
    "if b<a :\n",
    "    print(\"a is greater then a\")\n",
    "elif a==b:\n",
    "    print(\"they are equal\")\n",
    "else:\n",
    "    print(\"b is greater then a\")"
   ]
  },
  {
   "cell_type": "code",
   "execution_count": 4,
   "id": "6f64dd0e",
   "metadata": {},
   "outputs": [
    {
     "name": "stdout",
     "output_type": "stream",
     "text": [
      "Enter a:10\n",
      "Enter b:20\n",
      "10\n"
     ]
    }
   ],
   "source": [
    "a = int(input(\"Enter a:\"))\n",
    "b = int(input(\"Enter b:\"))\n",
    "\n",
    "# one line if else statement \n",
    "print(a) if a<b else print(b)"
   ]
  },
  {
   "cell_type": "code",
   "execution_count": 6,
   "id": "526c7df1",
   "metadata": {},
   "outputs": [
    {
     "name": "stdout",
     "output_type": "stream",
     "text": [
      "equal\n"
     ]
    }
   ],
   "source": [
    "a = 200\n",
    "b = 200\n",
    "\n",
    "# one line if else elif condio\n",
    "print(a) if a>b else print(\"equal\") if a==b else print(b)"
   ]
  },
  {
   "cell_type": "code",
   "execution_count": 8,
   "id": "22c7033a",
   "metadata": {},
   "outputs": [
    {
     "name": "stdout",
     "output_type": "stream",
     "text": [
      "Both condition are true\n"
     ]
    }
   ],
   "source": [
    "a = 200\n",
    "b = 33\n",
    "c = 500\n",
    "\n",
    "if a > b and c > a:\n",
    "    print(\"Both condition are true\")"
   ]
  },
  {
   "cell_type": "code",
   "execution_count": 9,
   "id": "da9631ae",
   "metadata": {},
   "outputs": [
    {
     "name": "stdout",
     "output_type": "stream",
     "text": [
      "At least one of the conditions is True\n"
     ]
    }
   ],
   "source": [
    "a = 200\n",
    "b = 33\n",
    "c = 500\n",
    "\n",
    "if a > b or a > c:\n",
    "    print(\"At least one of the conditions is True\")"
   ]
  },
  {
   "cell_type": "code",
   "execution_count": 10,
   "id": "b5e4faac",
   "metadata": {},
   "outputs": [
    {
     "name": "stdout",
     "output_type": "stream",
     "text": [
      "a is NOT greater than b\n"
     ]
    }
   ],
   "source": [
    "# use of not operator\n",
    "a = 33\n",
    "b = 200\n",
    "\n",
    "if not a > b:\n",
    "  print(\"a is NOT greater than b\")"
   ]
  },
  {
   "cell_type": "code",
   "execution_count": 11,
   "id": "9c8c4846",
   "metadata": {},
   "outputs": [
    {
     "name": "stdout",
     "output_type": "stream",
     "text": [
      "Above ten,\n",
      "and also above 20!\n"
     ]
    }
   ],
   "source": [
    "# nested if function\n",
    "x = 41\n",
    "\n",
    "if x > 10:\n",
    "    print(\"Above ten,\")\n",
    "    if x > 20:\n",
    "        print(\"and also above 20!\")\n",
    "    else:\n",
    "        print(\"but not above 20.\")"
   ]
  },
  {
   "cell_type": "code",
   "execution_count": 12,
   "id": "de8b1233",
   "metadata": {},
   "outputs": [],
   "source": [
    "# pass statement \n",
    "\n",
    "a = 30\n",
    "b = 200\n",
    "\n",
    "if b>a:\n",
    "    pass"
   ]
  },
  {
   "cell_type": "markdown",
   "id": "8021212c",
   "metadata": {},
   "source": [
    "# while loop"
   ]
  },
  {
   "cell_type": "code",
   "execution_count": 13,
   "id": "4c4251f3",
   "metadata": {},
   "outputs": [
    {
     "name": "stdout",
     "output_type": "stream",
     "text": [
      "0\n",
      "1\n",
      "2\n",
      "3\n"
     ]
    }
   ],
   "source": [
    "i = 0\n",
    "while i<6:\n",
    "    print(i)\n",
    "    if i == 3:\n",
    "        break\n",
    "    i+=1"
   ]
  },
  {
   "cell_type": "code",
   "execution_count": 1,
   "id": "b1893ef0",
   "metadata": {},
   "outputs": [
    {
     "name": "stdout",
     "output_type": "stream",
     "text": [
      "1\n",
      "2\n",
      "4\n",
      "5\n",
      "6\n"
     ]
    }
   ],
   "source": [
    "i = 0\n",
    "while i< 6:\n",
    "    i+=1\n",
    "    if i == 3:\n",
    "        continue\n",
    "    print(i)"
   ]
  },
  {
   "cell_type": "code",
   "execution_count": 2,
   "id": "da6a8b09",
   "metadata": {},
   "outputs": [
    {
     "name": "stdout",
     "output_type": "stream",
     "text": [
      "1\n",
      "2\n",
      "3\n",
      "4\n",
      "5\n",
      "6 is no longer then 6\n"
     ]
    }
   ],
   "source": [
    "# print a message when the condition is false\n",
    "i = 1\n",
    "while i < 6:\n",
    "    print(i)\n",
    "    i+=1\n",
    "else: print(i, \"is no longer then 6\")"
   ]
  },
  {
   "cell_type": "markdown",
   "id": "b41f4697",
   "metadata": {},
   "source": [
    "# For loop"
   ]
  },
  {
   "cell_type": "code",
   "execution_count": 3,
   "id": "339553c6",
   "metadata": {},
   "outputs": [
    {
     "name": "stdout",
     "output_type": "stream",
     "text": [
      "10\n",
      "20\n",
      "30\n",
      "40\n",
      "50\n"
     ]
    }
   ],
   "source": [
    "# loop through list\n",
    "number = [10, 20, 30, 40, 50]\n",
    "for i in number:\n",
    "    print(i)"
   ]
  },
  {
   "cell_type": "code",
   "execution_count": 4,
   "id": "f1b9e1d8",
   "metadata": {},
   "outputs": [
    {
     "name": "stdout",
     "output_type": "stream",
     "text": [
      "b\n",
      "a\n",
      "n\n",
      "a\n",
      "n\n",
      "a\n"
     ]
    }
   ],
   "source": [
    "# loop through string\n",
    "for x in \"banana\":\n",
    "    print(x)"
   ]
  },
  {
   "cell_type": "code",
   "execution_count": 5,
   "id": "8f311d60",
   "metadata": {},
   "outputs": [
    {
     "name": "stdout",
     "output_type": "stream",
     "text": [
      "10\n",
      "20\n",
      "30\n"
     ]
    }
   ],
   "source": [
    "number = [10, 20, 30, 40, 50]\n",
    "for i in number:\n",
    "    print(i)\n",
    "    if i == 30:\n",
    "        break"
   ]
  },
  {
   "cell_type": "code",
   "execution_count": 6,
   "id": "a752448f",
   "metadata": {},
   "outputs": [
    {
     "name": "stdout",
     "output_type": "stream",
     "text": [
      "10\n",
      "20\n"
     ]
    }
   ],
   "source": [
    "number = [10, 20, 30, 40, 50]\n",
    "for i in number:\n",
    "    if i == 30:\n",
    "        break\n",
    "    print(i)"
   ]
  },
  {
   "cell_type": "code",
   "execution_count": 8,
   "id": "c6b78a23",
   "metadata": {},
   "outputs": [
    {
     "name": "stdout",
     "output_type": "stream",
     "text": [
      "10\n",
      "20\n",
      "40\n",
      "50\n"
     ]
    }
   ],
   "source": [
    "number = [10, 20, 30, 40, 50]\n",
    "for i in number:\n",
    "    if i == 30:\n",
    "        continue\n",
    "    print(i)"
   ]
  },
  {
   "cell_type": "code",
   "execution_count": 11,
   "id": "e5e89f59",
   "metadata": {},
   "outputs": [
    {
     "name": "stdout",
     "output_type": "stream",
     "text": [
      "0\n",
      "1\n",
      "2\n",
      "\n",
      "\n",
      "2\n",
      "3\n",
      "\n",
      "\n",
      "2\n",
      "5\n",
      "8\n"
     ]
    }
   ],
   "source": [
    "# range function\n",
    "for x in range(3):\n",
    "    print(x)\n",
    "print(\"\\n\")\n",
    "for x in range(2, 4):\n",
    "    print(x)\n",
    "print(\"\\n\")\n",
    "for x in range(2, 10, 3):\n",
    "    print(x)"
   ]
  },
  {
   "cell_type": "code",
   "execution_count": 14,
   "id": "8e312558",
   "metadata": {},
   "outputs": [
    {
     "name": "stdout",
     "output_type": "stream",
     "text": [
      "0\n",
      "1\n",
      "2\n",
      "3\n",
      "3 Finally Done!\n"
     ]
    }
   ],
   "source": [
    "for x in range(4):\n",
    "    print(x)\n",
    "else: print(x, \"Finally Done!\")"
   ]
  },
  {
   "cell_type": "code",
   "execution_count": 16,
   "id": "485354cf",
   "metadata": {},
   "outputs": [
    {
     "name": "stdout",
     "output_type": "stream",
     "text": [
      "0\n",
      "1\n",
      "2\n"
     ]
    }
   ],
   "source": [
    "# if the break statement works then else block does not work\n",
    "for x in range(6):\n",
    "    if x == 3: break\n",
    "    print(x)\n",
    "else:\n",
    "    print(\"Finally finished!\")"
   ]
  },
  {
   "cell_type": "code",
   "execution_count": 19,
   "id": "99fc5fd2",
   "metadata": {},
   "outputs": [
    {
     "name": "stdout",
     "output_type": "stream",
     "text": [
      "1 : big\n",
      "1 : small\n",
      "2 : big\n",
      "2 : small\n",
      "3 : big\n",
      "3 : small\n",
      "4 : big\n",
      "4 : small\n",
      "5 : big\n",
      "5 : small\n"
     ]
    }
   ],
   "source": [
    "num = [1, 2, 3, 4, 5]\n",
    "is_no =[\"big\", \"small\"]\n",
    "\n",
    "for x in num:\n",
    "    for y in is_no:\n",
    "        print(x,\":\", y)"
   ]
  },
  {
   "cell_type": "code",
   "execution_count": 20,
   "id": "a3c7c5c4",
   "metadata": {},
   "outputs": [],
   "source": [
    "# pass statement\n",
    "for x in [0, 1, 2]:\n",
    "    pass"
   ]
  },
  {
   "cell_type": "markdown",
   "id": "ad5210c9",
   "metadata": {},
   "source": [
    "# Function"
   ]
  },
  {
   "cell_type": "code",
   "execution_count": 22,
   "id": "ec544f89",
   "metadata": {},
   "outputs": [
    {
     "name": "stdout",
     "output_type": "stream",
     "text": [
      "Your friend id calling\n"
     ]
    }
   ],
   "source": [
    "def calling():\n",
    "    print(\"Your friend id calling\")\n",
    "    \n",
    "calling()"
   ]
  },
  {
   "cell_type": "code",
   "execution_count": 25,
   "id": "7dd8a4b7",
   "metadata": {},
   "outputs": [
    {
     "name": "stdout",
     "output_type": "stream",
     "text": [
      "sazzad id +880163424 calling\n"
     ]
    }
   ],
   "source": [
    "def calling(name, num):\n",
    "    print(\"{} id {} calling\".format(name, num))\n",
    "    \n",
    "calling(\"sazzad\", \"+880163424\")"
   ]
  },
  {
   "cell_type": "code",
   "execution_count": 31,
   "id": "7db74f54",
   "metadata": {},
   "outputs": [
    {
     "name": "stdout",
     "output_type": "stream",
     "text": [
      "Your friend calling good boy sazzad\n"
     ]
    }
   ],
   "source": [
    "# function with unlimited argumet\n",
    "def calling(*name):\n",
    "    print(\"Your friend calling {1} {2}\".format(*name) , name[0])\n",
    "    \n",
    "calling(\"sazzad\", 'good', \"boy\")"
   ]
  },
  {
   "cell_type": "code",
   "execution_count": 32,
   "id": "69bb7702",
   "metadata": {},
   "outputs": [
    {
     "name": "stdout",
     "output_type": "stream",
     "text": [
      "His last name is Refsnes\n"
     ]
    }
   ],
   "source": [
    "# with ** \n",
    "def my_function(**kid):\n",
    "    print(\"His last name is \" + kid[\"lname\"])\n",
    "\n",
    "my_function(fname = \"Tobias\", lname = \"Refsnes\")"
   ]
  },
  {
   "cell_type": "code",
   "execution_count": 34,
   "id": "128020f2",
   "metadata": {},
   "outputs": [
    {
     "name": "stdout",
     "output_type": "stream",
     "text": [
      "banana\n",
      "apple\n",
      "cherry\n"
     ]
    }
   ],
   "source": [
    "# passing a list\n",
    "def fun(food):\n",
    "    for x in food:\n",
    "        print(x)\n",
    "        \n",
    "fruits = [\"banana\", \"apple\", \"cherry\"]\n",
    "fun(fruits)      "
   ]
  },
  {
   "cell_type": "code",
   "execution_count": 35,
   "id": "8af5d9b0",
   "metadata": {},
   "outputs": [
    {
     "name": "stdout",
     "output_type": "stream",
     "text": [
      "25\n"
     ]
    }
   ],
   "source": [
    "# return value\n",
    "def dofun(x):\n",
    "    return 5*x\n",
    "\n",
    "x=dofun(5)\n",
    "print(x)"
   ]
  },
  {
   "cell_type": "code",
   "execution_count": 38,
   "id": "063ed805",
   "metadata": {},
   "outputs": [
    {
     "name": "stdout",
     "output_type": "stream",
     "text": [
      "10\n"
     ]
    }
   ],
   "source": [
    "# recursion\n",
    "\n",
    "def t_recursion(k):\n",
    "    if(k>0):\n",
    "        result = k + t_recursion(k-1)\n",
    "    else:\n",
    "        result = 0\n",
    "    return result\n",
    "print(t_recursion(4))"
   ]
  },
  {
   "cell_type": "markdown",
   "id": "229b7909",
   "metadata": {},
   "source": [
    "# Lambda function"
   ]
  },
  {
   "cell_type": "code",
   "execution_count": 40,
   "id": "5fd280ff",
   "metadata": {},
   "outputs": [
    {
     "name": "stdout",
     "output_type": "stream",
     "text": [
      "10\n"
     ]
    }
   ],
   "source": [
    "fun = lambda x : x*2\n",
    "print(fun(5))"
   ]
  },
  {
   "cell_type": "code",
   "execution_count": 42,
   "id": "c5e21578",
   "metadata": {},
   "outputs": [
    {
     "name": "stdout",
     "output_type": "stream",
     "text": [
      "60\n"
     ]
    }
   ],
   "source": [
    "fun = lambda x, y, z : x+y+z\n",
    "x = fun(10, 20 ,30)\n",
    "print(x)"
   ]
  },
  {
   "cell_type": "code",
   "execution_count": 44,
   "id": "b4dbd946",
   "metadata": {},
   "outputs": [
    {
     "name": "stdout",
     "output_type": "stream",
     "text": [
      "25\n"
     ]
    }
   ],
   "source": [
    "# use lambda function into other function\n",
    "def myfun(n):\n",
    "    return lambda a: a*n\n",
    "r_fun = myfun(5)\n",
    "print(r_fun(5))"
   ]
  },
  {
   "cell_type": "markdown",
   "id": "f9df3975",
   "metadata": {},
   "source": [
    "# OOP Concept"
   ]
  },
  {
   "cell_type": "code",
   "execution_count": 45,
   "id": "6f01a0de",
   "metadata": {},
   "outputs": [
    {
     "name": "stdout",
     "output_type": "stream",
     "text": [
      "Daffodil International University\n"
     ]
    }
   ],
   "source": [
    "class university:\n",
    "    name = \"Daffodil International University\"\n",
    "    \n",
    "ob1 = university()\n",
    "print(ob1.name)"
   ]
  },
  {
   "cell_type": "code",
   "execution_count": 63,
   "id": "da9887d8",
   "metadata": {},
   "outputs": [],
   "source": [
    "class university:\n",
    "    pass"
   ]
  },
  {
   "cell_type": "code",
   "execution_count": 47,
   "id": "27698a61",
   "metadata": {},
   "outputs": [
    {
     "name": "stdout",
     "output_type": "stream",
     "text": [
      "213-15-4254\n"
     ]
    }
   ],
   "source": [
    "# __init__ function\n",
    "class student:\n",
    "    def __init__(self, name, id_no):\n",
    "        self.name = name\n",
    "        self.id_no = id_no\n",
    "        \n",
    "ob = student(\"samman\", \"213-15-4254\")\n",
    "print(ob.id_no)"
   ]
  },
  {
   "cell_type": "code",
   "execution_count": 50,
   "id": "77a5ce11",
   "metadata": {},
   "outputs": [
    {
     "name": "stdout",
     "output_type": "stream",
     "text": [
      "samman (213-15-4254)\n"
     ]
    }
   ],
   "source": [
    "# __str__ function\n",
    "class student:\n",
    "    def __init__(self, name, id_no):\n",
    "        self.name = name\n",
    "        self.id_no = id_no\n",
    "        \n",
    "    def __str__(self):\n",
    "        return f\"{self.name} ({self.id_no})\"\n",
    "        \n",
    "ob = student(\"samman\", \"213-15-4254\")\n",
    "print(ob)"
   ]
  },
  {
   "cell_type": "code",
   "execution_count": 54,
   "id": "bf5bbf22",
   "metadata": {},
   "outputs": [
    {
     "name": "stdout",
     "output_type": "stream",
     "text": [
      "samman 213-15-4254\n",
      "None\n"
     ]
    }
   ],
   "source": [
    "class student:\n",
    "    def __init__(self, name, id_no):\n",
    "        self.name = name\n",
    "        self.id_no = id_no\n",
    "        \n",
    "    def show(self):\n",
    "        print(self.name , self.id_no)\n",
    "        \n",
    "ob = student(\"samman\", \"213-15-4254\")\n",
    "print(ob.show())"
   ]
  },
  {
   "cell_type": "code",
   "execution_count": 57,
   "id": "aabb436f",
   "metadata": {},
   "outputs": [
    {
     "name": "stdout",
     "output_type": "stream",
     "text": [
      "Your dept is:  Rocket Science\n",
      "None\n"
     ]
    }
   ],
   "source": [
    "# working as self\n",
    "class student:\n",
    "    def __init__(hey, name, dept):\n",
    "        hey.name = name\n",
    "        hey.dept = dept\n",
    "        \n",
    "    def show(hello):\n",
    "        print(\"Your dept is: \", hello.dept)\n",
    "\n",
    "ob = student(\"samman\", \"CSE\")\n",
    "print(ob.show())"
   ]
  },
  {
   "cell_type": "code",
   "execution_count": 60,
   "id": "cbae6fc5",
   "metadata": {},
   "outputs": [
    {
     "name": "stdout",
     "output_type": "stream",
     "text": [
      "213-15-4254\n",
      "None\n"
     ]
    }
   ],
   "source": [
    "# modify object proparty\n",
    "class student:\n",
    "    def __init__(self, name, id_no):\n",
    "        self.name = name\n",
    "        self.id_no = id_no\n",
    "        \n",
    "    def show(self):\n",
    "        print(self.id_no)\n",
    "        \n",
    "ob = student(\"samman\", \"213-15-4305\")\n",
    "ob.id_no = \"213-15-4254\"\n",
    "print(ob.show())"
   ]
  },
  {
   "cell_type": "code",
   "execution_count": 62,
   "id": "8222d9d3",
   "metadata": {},
   "outputs": [
    {
     "name": "stdout",
     "output_type": "stream",
     "text": [
      "213-15-4305\n",
      "None\n"
     ]
    }
   ],
   "source": [
    "class student:\n",
    "    def __init__(self, name, id_no):\n",
    "        self.name = name\n",
    "        self.id_no = id_no\n",
    "        \n",
    "    def show(self):\n",
    "        print(self.id_no)\n",
    "        \n",
    "ob = student(\"samman\", \"213-15-4305\")\n",
    "del ob.name\n",
    "print(ob.show())"
   ]
  },
  {
   "cell_type": "markdown",
   "id": "7940015c",
   "metadata": {},
   "source": [
    "# Inheritance"
   ]
  },
  {
   "cell_type": "code",
   "execution_count": 73,
   "id": "14bd129e",
   "metadata": {},
   "outputs": [
    {
     "name": "stdout",
     "output_type": "stream",
     "text": [
      "firstname is james and last name Amin\n"
     ]
    }
   ],
   "source": [
    "class person:\n",
    "    def __init__(self, fname, lname):\n",
    "        self.fname = fname\n",
    "        self.lname = lname\n",
    "        \n",
    "    def show(self):\n",
    "        return(f\"firstname is {self.fname} and last name {self.lname}\")\n",
    "        \n",
    "x = person(\"james\", \"amin\")\n",
    "# child class\n",
    "\n",
    "class student(person):\n",
    "    pass\n",
    "\n",
    "y = student(\"james\", \"Amin\")\n",
    "print(y.show())"
   ]
  },
  {
   "cell_type": "code",
   "execution_count": 79,
   "id": "380f34e6",
   "metadata": {},
   "outputs": [
    {
     "name": "stdout",
     "output_type": "stream",
     "text": [
      "abu\n",
      "first name is abu and last name salaho\n"
     ]
    }
   ],
   "source": [
    "# when we make an aother __init__ function in child class\n",
    "# it does not work in parents __init__ function\n",
    "# that is overrides\n",
    "\n",
    "class person:\n",
    "    def __init__(self, fname, lname):\n",
    "        self.fname = fname\n",
    "        self.lname = lname\n",
    "        \n",
    "    def show(self):\n",
    "        return(f\"first name is {self.fname} and last name {self.lname}\")\n",
    "    \n",
    "# child class\n",
    "# two use parent __init__ function\n",
    "class student(person):\n",
    "    def __init__(self, fname, lname):\n",
    "        self.fname = fname\n",
    "        self.lname = lname\n",
    "        person.__init__(self, fname, lname)\n",
    "\n",
    "x = student(\"abu\", \"salaho\")\n",
    "print(x.fname)\n",
    "print(x.show())"
   ]
  },
  {
   "cell_type": "code",
   "execution_count": 78,
   "id": "7dc9cda8",
   "metadata": {},
   "outputs": [
    {
     "name": "stdout",
     "output_type": "stream",
     "text": [
      "first name is abu and last name salaho\n"
     ]
    }
   ],
   "source": [
    "# Use of super keyword\n",
    "class student(person):\n",
    "    def __init__(self, fname, lname):\n",
    "        super().__init__(fname, lname)\n",
    "    \n",
    "x =student(\"abu\", \"salaho\")\n",
    "print(x.show())"
   ]
  },
  {
   "cell_type": "code",
   "execution_count": 85,
   "id": "b2cbc23b",
   "metadata": {},
   "outputs": [
    {
     "name": "stdout",
     "output_type": "stream",
     "text": [
      "2025\n",
      "welcome abu salaho gradutiation at 2025\n",
      "None\n"
     ]
    }
   ],
   "source": [
    "# add method using super\n",
    "class student(person):\n",
    "    def __init__(self, fname, lname, year):\n",
    "        super().__init__(fname, lname)\n",
    "        self.graduation_year = year\n",
    "        \n",
    "    def welcome(self):\n",
    "        print(\"welcome\", self.fname, self.lname,\"gradutiation at\", self.graduation_year)\n",
    "    \n",
    "x = student(\"abu\", \"salaho\", 2025)\n",
    "print(x.graduation_year)\n",
    "print(x.welcome())"
   ]
  },
  {
   "cell_type": "markdown",
   "id": "0b318e07",
   "metadata": {},
   "source": [
    "# Iterators"
   ]
  },
  {
   "cell_type": "code",
   "execution_count": 87,
   "id": "139a5f71",
   "metadata": {},
   "outputs": [
    {
     "name": "stdout",
     "output_type": "stream",
     "text": [
      "apple\n",
      "banana\n",
      "cherry\n",
      "strawberry\n"
     ]
    }
   ],
   "source": [
    "# passing through list/ set/ tuple/ dict\n",
    "fruits = (\"apple\", \"banana\", \"cherry\", \"strawberry\", \"orange\")\n",
    "x = iter(fruits)\n",
    "\n",
    "print(next(x))\n",
    "print(next(x))\n",
    "print(next(x))\n",
    "print(next(x))"
   ]
  },
  {
   "cell_type": "code",
   "execution_count": 88,
   "id": "3a4c69ef",
   "metadata": {},
   "outputs": [
    {
     "name": "stdout",
     "output_type": "stream",
     "text": [
      "s\n",
      "t\n",
      "r\n",
      "a\n",
      "w\n"
     ]
    }
   ],
   "source": [
    "# passing string\n",
    "x = \"strawberry\"\n",
    "y = iter(x)\n",
    "\n",
    "print(next(y))\n",
    "print(next(y))\n",
    "print(next(y))\n",
    "print(next(y))\n",
    "print(next(y))"
   ]
  },
  {
   "cell_type": "code",
   "execution_count": null,
   "id": "5be9cd60",
   "metadata": {},
   "outputs": [],
   "source": [
    "# class number:\n",
    "    def __iter__(self):\n",
    "        self.a = 1\n",
    "        return self\n",
    "        \n",
    "    def __next__(self):\n",
    "        x = self.a\n",
    "        self.a+=1\n",
    "        return x\n",
    "    \n",
    "obj = number()\n",
    "y = iter(obj)\n",
    "\n",
    "print(next(y))\n",
    "print(next(y))"
   ]
  },
  {
   "cell_type": "code",
   "execution_count": 91,
   "id": "a4b7dd7e",
   "metadata": {},
   "outputs": [
    {
     "name": "stdout",
     "output_type": "stream",
     "text": [
      "1\n",
      "2\n",
      "3\n",
      "4\n"
     ]
    }
   ],
   "source": [
    "# stop iteration\n",
    "class number:\n",
    "    def __iter__(self):\n",
    "        self.a = 1\n",
    "        return self\n",
    "        \n",
    "    def __next__(self):\n",
    "        if self.a<5:\n",
    "            x = self.a\n",
    "            self.a+=1\n",
    "            return x\n",
    "        else:\n",
    "            raise StopIteration\n",
    "    \n",
    "obj = number()\n",
    "y = iter(obj)\n",
    "\n",
    "for x in y:\n",
    "    print(x)"
   ]
  },
  {
   "cell_type": "markdown",
   "id": "b0c697fe",
   "metadata": {},
   "source": [
    "# Polymorphism"
   ]
  },
  {
   "cell_type": "code",
   "execution_count": 92,
   "id": "63f8db73",
   "metadata": {},
   "outputs": [
    {
     "name": "stdout",
     "output_type": "stream",
     "text": [
      "Drive!\n",
      "Sail!\n",
      "Fly!\n"
     ]
    }
   ],
   "source": [
    "class Car:\n",
    "    def __init__(self, brand, model):\n",
    "        self.brand = brand\n",
    "        self.model = model\n",
    "   \n",
    "    def move(self):\n",
    "        print(\"Drive!\")\n",
    "\n",
    "class Boat:\n",
    "    def __init__(self, brand, model):\n",
    "        self.brand = brand\n",
    "        self.model = model\n",
    "\n",
    "    def move(self):\n",
    "        print(\"Sail!\")\n",
    "\n",
    "class Plane:\n",
    "    def __init__(self, brand, model):\n",
    "        self.brand = brand\n",
    "        self.model = model\n",
    "\n",
    "    def move(self):\n",
    "        print(\"Fly!\")\n",
    "\n",
    "car1 = Car(\"Ford\", \"Mustang\")       #Create a Car class\n",
    "boat1 = Boat(\"Ibiza\", \"Touring 20\") #Create a Boat class\n",
    "plane1 = Plane(\"Boeing\", \"747\")     #Create a Plane class\n",
    "\n",
    "for x in (car1, boat1, plane1):\n",
    "    x.move()"
   ]
  },
  {
   "cell_type": "code",
   "execution_count": 95,
   "id": "02babc11",
   "metadata": {},
   "outputs": [
    {
     "name": "stdout",
     "output_type": "stream",
     "text": [
      "Ford\n",
      "Mustang\n",
      "Drive!\n",
      "Ibiza\n",
      "Touring 20\n",
      "Sail!\n",
      "Boeing\n",
      "747\n",
      "Fly!\n"
     ]
    }
   ],
   "source": [
    "class Vehicle:\n",
    "    def __init__(self, brand, model):\n",
    "        self.brand = brand\n",
    "        self.model = model\n",
    "  \n",
    "    def move(self):\n",
    "        print(\"Drive!\")\n",
    "class car(Vehicle):\n",
    "    pass\n",
    "\n",
    "class Boat(Vehicle):\n",
    "    def move(self):\n",
    "        print(\"Sail!\")\n",
    "\n",
    "class Plane(Vehicle):\n",
    "    def move(self):\n",
    "        print(\"Fly!\")\n",
    "\n",
    "car1 = Car(\"Ford\", \"Mustang\")       #Create a Car class\n",
    "boat1 = Boat(\"Ibiza\", \"Touring 20\") #Create a Boat class\n",
    "plane1 = Plane(\"Boeing\", \"747\")     #Create a Plane class\n",
    "\n",
    "for x in (car1, boat1, plane1):\n",
    "    print(x.brand)\n",
    "    print(x.model)\n",
    "    x.move()\n",
    "    \n",
    "# move function is overloading in polymorphism"
   ]
  },
  {
   "cell_type": "markdown",
   "id": "dfd9ce47",
   "metadata": {},
   "source": [
    "# python Scope"
   ]
  },
  {
   "cell_type": "code",
   "execution_count": 96,
   "id": "68d67acd",
   "metadata": {},
   "outputs": [
    {
     "name": "stdout",
     "output_type": "stream",
     "text": [
      "100\n",
      "None\n"
     ]
    }
   ],
   "source": [
    "# it is only availble under this function\n",
    "def fun():\n",
    "    x = 100\n",
    "    print(x)\n",
    "    \n",
    "print(fun())"
   ]
  },
  {
   "cell_type": "code",
   "execution_count": 97,
   "id": "e14e1453",
   "metadata": {},
   "outputs": [
    {
     "name": "stdout",
     "output_type": "stream",
     "text": [
      "100\n",
      "None\n"
     ]
    }
   ],
   "source": [
    "# function inside function\n",
    "def fun():\n",
    "    x = 100\n",
    "    def inner():\n",
    "        print(x)\n",
    "    return inner()\n",
    "\n",
    "print(fun())"
   ]
  },
  {
   "cell_type": "code",
   "execution_count": 98,
   "id": "8da405b5",
   "metadata": {},
   "outputs": [
    {
     "name": "stdout",
     "output_type": "stream",
     "text": [
      "300\n"
     ]
    }
   ],
   "source": [
    "# global Scope\n",
    "x = 300\n",
    "def fun():\n",
    "    print(x)\n",
    "\n",
    "print(x)"
   ]
  },
  {
   "cell_type": "code",
   "execution_count": 100,
   "id": "8986f629",
   "metadata": {},
   "outputs": [
    {
     "name": "stdout",
     "output_type": "stream",
     "text": [
      "200\n",
      "300\n"
     ]
    }
   ],
   "source": [
    "x = 300\n",
    "def fun():\n",
    "    x = 200\n",
    "    print(x)\n",
    "fun()\n",
    "print(x)"
   ]
  },
  {
   "cell_type": "code",
   "execution_count": 102,
   "id": "14b8d7e9",
   "metadata": {},
   "outputs": [
    {
     "name": "stdout",
     "output_type": "stream",
     "text": [
      "200\n",
      "200\n"
     ]
    }
   ],
   "source": [
    "x = 300\n",
    "def fun():\n",
    "    global x\n",
    "    x = 200\n",
    "    print(x)\n",
    "fun()\n",
    "print(x)"
   ]
  },
  {
   "cell_type": "markdown",
   "id": "ac196adb",
   "metadata": {},
   "source": [
    "# Date Module "
   ]
  },
  {
   "cell_type": "code",
   "execution_count": 3,
   "id": "9f9525ac",
   "metadata": {},
   "outputs": [
    {
     "name": "stdout",
     "output_type": "stream",
     "text": [
      "2023-05-24 23:23:07.165553\n"
     ]
    }
   ],
   "source": [
    "import datetime\n",
    "x = datetime.datetime.now()\n",
    "print(x)"
   ]
  },
  {
   "cell_type": "code",
   "execution_count": 5,
   "id": "340fe1c6",
   "metadata": {},
   "outputs": [
    {
     "name": "stdout",
     "output_type": "stream",
     "text": [
      "2023\n",
      "Wednesday\n"
     ]
    }
   ],
   "source": [
    "import datetime\n",
    "x = datetime.datetime.now()\n",
    "print(x.year)\n",
    "print(x.strftime(\"%A\"))"
   ]
  },
  {
   "cell_type": "markdown",
   "id": "70e7c3d1",
   "metadata": {},
   "source": [
    "# Math module"
   ]
  },
  {
   "cell_type": "code",
   "execution_count": 6,
   "id": "e5370ddd",
   "metadata": {},
   "outputs": [
    {
     "name": "stdout",
     "output_type": "stream",
     "text": [
      "2\n",
      "1\n"
     ]
    }
   ],
   "source": [
    "import math\n",
    "\n",
    "x = math.ceil(1.4)\n",
    "y = math.floor(1.4)\n",
    "\n",
    "print(x)\n",
    "print(y)"
   ]
  },
  {
   "cell_type": "code",
   "execution_count": 7,
   "id": "fb8f75b0",
   "metadata": {},
   "outputs": [
    {
     "name": "stdout",
     "output_type": "stream",
     "text": [
      "3.141592653589793\n"
     ]
    }
   ],
   "source": [
    "x = math.pi\n",
    "print(x)"
   ]
  },
  {
   "cell_type": "code",
   "execution_count": 10,
   "id": "e571cec6",
   "metadata": {},
   "outputs": [
    {
     "name": "stdout",
     "output_type": "stream",
     "text": [
      "20 5\n"
     ]
    }
   ],
   "source": [
    "x = 10\n",
    "y = 20\n",
    "a = 5\n",
    "z = max(x, y)\n",
    "g = min(x, y, a)\n",
    "print(z, g)"
   ]
  },
  {
   "cell_type": "code",
   "execution_count": 11,
   "id": "bd8d65e7",
   "metadata": {},
   "outputs": [
    {
     "name": "stdout",
     "output_type": "stream",
     "text": [
      "7.25\n"
     ]
    }
   ],
   "source": [
    "x = abs(-7.25)\n",
    "print(x)"
   ]
  },
  {
   "cell_type": "code",
   "execution_count": 12,
   "id": "8e442e15",
   "metadata": {},
   "outputs": [
    {
     "name": "stdout",
     "output_type": "stream",
     "text": [
      "64\n"
     ]
    }
   ],
   "source": [
    "x = pow(4, 3)\n",
    "print(x)"
   ]
  },
  {
   "cell_type": "code",
   "execution_count": 13,
   "id": "3785abee",
   "metadata": {},
   "outputs": [
    {
     "name": "stdout",
     "output_type": "stream",
     "text": [
      "8.0\n"
     ]
    }
   ],
   "source": [
    "x= math.sqrt(64)\n",
    "print(x)"
   ]
  },
  {
   "cell_type": "markdown",
   "id": "fd931374",
   "metadata": {},
   "source": [
    "# Json module"
   ]
  },
  {
   "cell_type": "code",
   "execution_count": 15,
   "id": "698df750",
   "metadata": {},
   "outputs": [
    {
     "name": "stdout",
     "output_type": "stream",
     "text": [
      "23\n"
     ]
    }
   ],
   "source": [
    "import json\n",
    "x ='{\"name\":\"abu\", \"age\": \"23\"}'\n",
    "y = json.loads(x)\n",
    "\n",
    "print(y[\"age\"])"
   ]
  },
  {
   "cell_type": "code",
   "execution_count": 19,
   "id": "727f8626",
   "metadata": {},
   "outputs": [
    {
     "name": "stdout",
     "output_type": "stream",
     "text": [
      "{\"name\": \"John\", \"age\": 30, \"city\": \"New York\"}\n",
      "<class 'str'>\n"
     ]
    }
   ],
   "source": [
    "x = {\n",
    "  \"name\": \"John\",\n",
    "  \"age\": 30,\n",
    "  \"city\": \"New York\"\n",
    "}\n",
    "\n",
    "y = json.dumps(x)\n",
    "print(y)\n",
    "print(type(y))"
   ]
  },
  {
   "cell_type": "code",
   "execution_count": 26,
   "id": "ed8edac4",
   "metadata": {},
   "outputs": [
    {
     "name": "stdout",
     "output_type": "stream",
     "text": [
      "{\n",
      "    \"name\"=\"John\".\n",
      "    \"age\"=30.\n",
      "    \"married\"=true.\n",
      "    \"divorced\"=false.\n",
      "    \"children\"=[\n",
      "        \"Ann\".\n",
      "        \"Billy\"\n",
      "    ].\n",
      "    \"pets\"=null.\n",
      "    \"cars\"=[\n",
      "        {\n",
      "            \"model\"=\"BMW 230\".\n",
      "            \"mpg\"=27.5\n",
      "        }.\n",
      "        {\n",
      "            \"model\"=\"Ford Edge\".\n",
      "            \"mpg\"=24.1\n",
      "        }\n",
      "    ]\n",
      "}\n",
      "<class 'str'>\n"
     ]
    }
   ],
   "source": [
    "x = {\n",
    "  \"name\": \"John\",\n",
    "  \"age\": 30,\n",
    "  \"married\": True,\n",
    "  \"divorced\": False,\n",
    "  \"children\": (\"Ann\",\"Billy\"),\n",
    "  \"pets\": None,\n",
    "  \"cars\": [\n",
    "    {\"model\": \"BMW 230\", \"mpg\": 27.5},\n",
    "    {\"model\": \"Ford Edge\", \"mpg\": 24.1}\n",
    "  ]\n",
    "}\n",
    "\n",
    "print(json.dumps(x, indent = 4, separators= (\".\",\"=\")))\n",
    "print(type(json.dumps(x)))"
   ]
  },
  {
   "cell_type": "markdown",
   "id": "78544b45",
   "metadata": {},
   "source": [
    "# RegEx module"
   ]
  },
  {
   "cell_type": "code",
   "execution_count": 29,
   "id": "ce548c55",
   "metadata": {},
   "outputs": [
    {
     "name": "stdout",
     "output_type": "stream",
     "text": [
      "YES! We have a match!\n"
     ]
    }
   ],
   "source": [
    "import re\n",
    "\n",
    "#Check if the string starts with \"The\" and ends with \"Spain\":\n",
    "\n",
    "txt = \"The rain in Spain\"\n",
    "x = re.search(\"^The.*Spain$\", txt)\n",
    "\n",
    "if x:\n",
    "    print(\"YES! We have a match!\")\n",
    "else:\n",
    "    print(\"No match\")"
   ]
  },
  {
   "cell_type": "code",
   "execution_count": 30,
   "id": "1cade85a",
   "metadata": {},
   "outputs": [
    {
     "name": "stdout",
     "output_type": "stream",
     "text": [
      "['ai', 'ai']\n"
     ]
    }
   ],
   "source": [
    "# findall method\n",
    "txt = \"The rain in Spain\"\n",
    "x = re.findall(\"ai\", txt)\n",
    "print(x)"
   ]
  },
  {
   "cell_type": "code",
   "execution_count": 31,
   "id": "dee0caa4",
   "metadata": {},
   "outputs": [
    {
     "name": "stdout",
     "output_type": "stream",
     "text": [
      "The first white-space character is located in position: 3\n"
     ]
    }
   ],
   "source": [
    "# search method\n",
    "txt = \"The rain in Spain\"\n",
    "x = re.search(\"\\s\", txt)\n",
    "\n",
    "print(\"The first white-space character is located in position:\", x.start())"
   ]
  },
  {
   "cell_type": "code",
   "execution_count": 32,
   "id": "d0b45514",
   "metadata": {},
   "outputs": [
    {
     "name": "stdout",
     "output_type": "stream",
     "text": [
      "['The', 'rain', 'in', 'Spain']\n"
     ]
    }
   ],
   "source": [
    "# split method\n",
    "txt = \"The rain in Spain\"\n",
    "x = re.split(\"\\s\", txt)\n",
    "print(x)"
   ]
  },
  {
   "cell_type": "markdown",
   "id": "ebb44977",
   "metadata": {},
   "source": [
    "# try & except"
   ]
  },
  {
   "cell_type": "code",
   "execution_count": 36,
   "id": "b8446950",
   "metadata": {},
   "outputs": [
    {
     "name": "stdout",
     "output_type": "stream",
     "text": [
      "Abu\n"
     ]
    }
   ],
   "source": [
    "try:\n",
    "    print(\"Abu\")\n",
    "except:\n",
    "    print(\"An exception occured\")"
   ]
  },
  {
   "cell_type": "code",
   "execution_count": 39,
   "id": "d2f8df3d",
   "metadata": {},
   "outputs": [
    {
     "name": "stdout",
     "output_type": "stream",
     "text": [
      "Variable x is not defined\n"
     ]
    }
   ],
   "source": [
    "try:\n",
    "    abu = (h)\n",
    "except NameError:\n",
    "    print(\"Variable x is not defined\")\n",
    "except:\n",
    "    print(\"Something else went wrong\")"
   ]
  },
  {
   "cell_type": "code",
   "execution_count": 40,
   "id": "4034c203",
   "metadata": {},
   "outputs": [
    {
     "name": "stdout",
     "output_type": "stream",
     "text": [
      "Hello\n",
      "Nothing went wrong\n"
     ]
    }
   ],
   "source": [
    "try:\n",
    "    print(\"Hello\")\n",
    "except:\n",
    "    print(\"Something went wrong\")\n",
    "else:\n",
    "    print(\"Nothing went wrong\")"
   ]
  },
  {
   "cell_type": "code",
   "execution_count": 41,
   "id": "c83b1ae9",
   "metadata": {},
   "outputs": [
    {
     "name": "stdout",
     "output_type": "stream",
     "text": [
      "['The', 'rain', 'in', 'Spain']\n",
      "The 'try except' is finished\n"
     ]
    }
   ],
   "source": [
    "try:\n",
    "    print(x)\n",
    "except:\n",
    "    print(\"Something went wrong\")\n",
    "finally:\n",
    "    print(\"The 'try except' is finished\")"
   ]
  },
  {
   "cell_type": "code",
   "execution_count": 42,
   "id": "ef380f8f",
   "metadata": {},
   "outputs": [
    {
     "name": "stdout",
     "output_type": "stream",
     "text": [
      "Something went wrong when opening the file\n"
     ]
    }
   ],
   "source": [
    "try:\n",
    "    f = open(\"demofile.txt\")\n",
    "    try:\n",
    "        f.write(\"Lorum Ipsum\")\n",
    "    except:\n",
    "        print(\"Something went wrong when writing to the file\")\n",
    "    finally:\n",
    "        f.close()\n",
    "except:\n",
    "    print(\"Something went wrong when opening the file\")"
   ]
  },
  {
   "cell_type": "code",
   "execution_count": 46,
   "id": "863cd7ce",
   "metadata": {},
   "outputs": [
    {
     "ename": "SyntaxError",
     "evalue": "invalid syntax (Temp/ipykernel_9828/596751517.py, line 3)",
     "output_type": "error",
     "traceback": [
      "\u001b[1;36m  File \u001b[1;32m\"C:\\Users\\USER\\AppData\\Local\\Temp/ipykernel_9828/596751517.py\"\u001b[1;36m, line \u001b[1;32m3\u001b[0m\n\u001b[1;33m    except exception as e\u001b[0m\n\u001b[1;37m                          ^\u001b[0m\n\u001b[1;31mSyntaxError\u001b[0m\u001b[1;31m:\u001b[0m invalid syntax\n"
     ]
    }
   ],
   "source": [
    "try:\n",
    "    x =100/0\n",
    "except exception as e \n",
    "    print(e)"
   ]
  },
  {
   "cell_type": "code",
   "execution_count": null,
   "id": "8e74dc74",
   "metadata": {},
   "outputs": [],
   "source": []
  }
 ],
 "metadata": {
  "kernelspec": {
   "display_name": "Python 3 (ipykernel)",
   "language": "python",
   "name": "python3"
  },
  "language_info": {
   "codemirror_mode": {
    "name": "ipython",
    "version": 3
   },
   "file_extension": ".py",
   "mimetype": "text/x-python",
   "name": "python",
   "nbconvert_exporter": "python",
   "pygments_lexer": "ipython3",
   "version": "3.9.7"
  }
 },
 "nbformat": 4,
 "nbformat_minor": 5
}
