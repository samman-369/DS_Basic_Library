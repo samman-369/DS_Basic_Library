{
 "cells": [
  {
   "cell_type": "markdown",
   "id": "1b3c18c1",
   "metadata": {},
   "source": [
    "# List"
   ]
  },
  {
   "cell_type": "code",
   "execution_count": 1,
   "id": "08ddc7df",
   "metadata": {},
   "outputs": [
    {
     "name": "stdout",
     "output_type": "stream",
     "text": [
      "[1, 2, 3, 4, 5]\n"
     ]
    }
   ],
   "source": [
    "mylist = [1, 2, 3, 4, 5]\n",
    "print(mylist)"
   ]
  },
  {
   "cell_type": "code",
   "execution_count": 2,
   "id": "9bb38ec6",
   "metadata": {},
   "outputs": [
    {
     "name": "stdout",
     "output_type": "stream",
     "text": [
      "4\n",
      "['apple', 'banana', 'orange', 'banana']\n"
     ]
    }
   ],
   "source": [
    "# list are changeable, ordered, allow duplicate\n",
    "fruits = [\"apple\", \"banana\", \"orange\", \"banana\"]\n",
    "\n",
    "print(len(fruits))\n",
    "print(fruits)"
   ]
  },
  {
   "cell_type": "code",
   "execution_count": 3,
   "id": "2e83036c",
   "metadata": {},
   "outputs": [
    {
     "name": "stdout",
     "output_type": "stream",
     "text": [
      "[1, 1.2, 's', 'name', True, None]\n"
     ]
    }
   ],
   "source": [
    "# list item can be any type of data\n",
    "com = [1, 1.2, \"s\", \"name\", True, None]\n",
    "\n",
    "print(com)"
   ]
  },
  {
   "cell_type": "code",
   "execution_count": 12,
   "id": "59fae916",
   "metadata": {},
   "outputs": [
    {
     "name": "stdout",
     "output_type": "stream",
     "text": [
      "kiwi\n",
      "cherry\n",
      "['banana', 'cherry']\n"
     ]
    }
   ],
   "source": [
    "fruits = [\"apple\", \"banana\", \"cherry\", \"orange\", \"melon\", \"mango\", \"kiwi\"]\n",
    "\n",
    "print(fruits[-1])\n",
    "print(fruits[2])\n",
    "print(fruits[1:3])"
   ]
  },
  {
   "cell_type": "code",
   "execution_count": 11,
   "id": "d61430ce",
   "metadata": {},
   "outputs": [
    {
     "name": "stdout",
     "output_type": "stream",
     "text": [
      "['apple', 'banana', 'cherry', 'orange']\n",
      "['orange', 'melon', 'mango', 'kiwi']\n",
      "['orange', 'melon', 'mango']\n"
     ]
    }
   ],
   "source": [
    "fruits = [\"apple\", \"banana\", \"cherry\", \"orange\", \"melon\", \"mango\", \"kiwi\"]\n",
    "\n",
    "print(fruits[:4])\n",
    "print(fruits[3:])\n",
    "print(fruits[-4:-1])"
   ]
  },
  {
   "cell_type": "code",
   "execution_count": 13,
   "id": "891038e7",
   "metadata": {},
   "outputs": [
    {
     "name": "stdout",
     "output_type": "stream",
     "text": [
      "True\n",
      "Yes\n"
     ]
    }
   ],
   "source": [
    "fruits = [\"apple\", \"banana\", \"cherry\", \"orange\", \"melon\", \"mango\", \"kiwi\"]\n",
    "\n",
    "print(\"apple\" in fruits)\n",
    "if \"apple\" in fruits:\n",
    "    print(\"Yes\")"
   ]
  },
  {
   "cell_type": "markdown",
   "id": "fb458e92",
   "metadata": {},
   "source": [
    "### change list Item"
   ]
  },
  {
   "cell_type": "code",
   "execution_count": 14,
   "id": "c5d177c4",
   "metadata": {},
   "outputs": [
    {
     "name": "stdout",
     "output_type": "stream",
     "text": [
      "['apple', 'banana', 'kiwi', 'orange', 'melon', 'mango', 'cherry']\n"
     ]
    }
   ],
   "source": [
    "fruits = [\"apple\", \"banana\", \"cherry\", \"orange\", \"melon\", \"mango\", \"kiwi\"]\n",
    "\n",
    "fruits[2] = \"kiwi\"\n",
    "fruits[-1] = \"cherry\"\n",
    "\n",
    "print(fruits)"
   ]
  },
  {
   "cell_type": "code",
   "execution_count": 15,
   "id": "fab86dd3",
   "metadata": {},
   "outputs": [
    {
     "name": "stdout",
     "output_type": "stream",
     "text": [
      "['apple', 'banana', 'cherry', 'orange', 'water_melon', 'black_mango', 'kiwi']\n"
     ]
    }
   ],
   "source": [
    "fruits = [\"apple\", \"banana\", \"cherry\", \"orange\", \"melon\", \"mango\", \"kiwi\"]\n",
    "fruits[4:6]=[\"water_melon\", \"black_mango\"]\n",
    "\n",
    "print(fruits)"
   ]
  },
  {
   "cell_type": "code",
   "execution_count": 16,
   "id": "24db393e",
   "metadata": {},
   "outputs": [
    {
     "name": "stdout",
     "output_type": "stream",
     "text": [
      "['apple', 'banana', ['strawberry', 'blackberry'], 'orange', 'melon', 'mango', 'kiwi']\n"
     ]
    }
   ],
   "source": [
    "fruits = [\"apple\", \"banana\", \"cherry\", \"orange\", \"melon\", \"mango\", \"kiwi\"]\n",
    "fruits[2] = [\"strawberry\", \"blackberry\"]\n",
    "\n",
    "print(fruits)"
   ]
  },
  {
   "cell_type": "code",
   "execution_count": 17,
   "id": "d7a63fd5",
   "metadata": {},
   "outputs": [
    {
     "name": "stdout",
     "output_type": "stream",
     "text": [
      "['apple', 'strawberry', 'orange', 'melon', 'mango', 'kiwi']\n"
     ]
    }
   ],
   "source": [
    "fruits = [\"apple\", \"banana\", \"cherry\", \"orange\", \"melon\", \"mango\", \"kiwi\"]\n",
    "fruits[1:3]= [\"strawberry\"]\n",
    "\n",
    "print(fruits)"
   ]
  },
  {
   "cell_type": "code",
   "execution_count": 19,
   "id": "6f5e96c3",
   "metadata": {},
   "outputs": [
    {
     "name": "stdout",
     "output_type": "stream",
     "text": [
      "['apple', 'banana', 'cherry', 'orange', 'melon', 'watermelon', 'mango', 'kiwi']\n"
     ]
    }
   ],
   "source": [
    "fruits = [\"apple\", \"banana\", \"cherry\", \"orange\", \"melon\", \"mango\", \"kiwi\"]\n",
    "fruits.insert(5, \"watermelon\")\n",
    "\n",
    "print(fruits)"
   ]
  },
  {
   "cell_type": "markdown",
   "id": "c70884e5",
   "metadata": {},
   "source": [
    "### Add list item"
   ]
  },
  {
   "cell_type": "code",
   "execution_count": 3,
   "id": "4ec16605",
   "metadata": {},
   "outputs": [
    {
     "name": "stdout",
     "output_type": "stream",
     "text": [
      "['Bangla', 'English', 'math']\n"
     ]
    }
   ],
   "source": [
    "subject = [\"Bangla\", \"English\"]\n",
    "subject.append(\"math\")\n",
    "\n",
    "print(subject)"
   ]
  },
  {
   "cell_type": "code",
   "execution_count": 6,
   "id": "9920ad5f",
   "metadata": {},
   "outputs": [
    {
     "name": "stdout",
     "output_type": "stream",
     "text": [
      "['Bangla', 'English', 'Math']\n",
      "Math\n"
     ]
    }
   ],
   "source": [
    "subject = [\"Bangla\", \"English\"]\n",
    "subject.insert(3, \"Math\")\n",
    "\n",
    "print(subject)\n",
    "print(subject[2])"
   ]
  },
  {
   "cell_type": "code",
   "execution_count": 7,
   "id": "a70c5c42",
   "metadata": {},
   "outputs": [
    {
     "name": "stdout",
     "output_type": "stream",
     "text": [
      "['Bangla', 'English', 'math', 'E_math', 'B_math']\n"
     ]
    }
   ],
   "source": [
    "subject = [\"Bangla\", \"English\"]\n",
    "E_subject = [\"math\", \"E_math\", \"B_math\"]\n",
    "\n",
    "subject.extend(E_subject)\n",
    "print(subject)"
   ]
  },
  {
   "cell_type": "code",
   "execution_count": 8,
   "id": "9bbb9f10",
   "metadata": {},
   "outputs": [
    {
     "name": "stdout",
     "output_type": "stream",
     "text": [
      "['Bangla', 'English', 'math', 'E_math', 'B_math']\n"
     ]
    }
   ],
   "source": [
    "# we also can use list and tuple and other collection with expend. \n",
    "subject = [\"Bangla\", \"English\"]\n",
    "E_subject = (\"math\", \"E_math\", \"B_math\")\n",
    "\n",
    "subject.extend(E_subject)\n",
    "print(subject)"
   ]
  },
  {
   "cell_type": "markdown",
   "id": "60c6e092",
   "metadata": {},
   "source": [
    "### Remove list item"
   ]
  },
  {
   "cell_type": "code",
   "execution_count": 10,
   "id": "0c26bc2c",
   "metadata": {},
   "outputs": [
    {
     "name": "stdout",
     "output_type": "stream",
     "text": [
      "['Bangla', 'English', 'Math']\n"
     ]
    }
   ],
   "source": [
    "subject = [\"Bangla\", \"English\", \"Math\", \"Science\"]\n",
    "subject.remove(\"Science\")\n",
    "\n",
    "print(subject)"
   ]
  },
  {
   "cell_type": "code",
   "execution_count": 11,
   "id": "78e38cd0",
   "metadata": {},
   "outputs": [
    {
     "name": "stdout",
     "output_type": "stream",
     "text": [
      "['Bangla', 'English', 'Math']\n"
     ]
    }
   ],
   "source": [
    "subject = [\"Bangla\", \"English\", \"Math\", \"Science\"]\n",
    "subject.pop(3)\n",
    "\n",
    "print(subject)"
   ]
  },
  {
   "cell_type": "code",
   "execution_count": 12,
   "id": "c2a2ab86",
   "metadata": {},
   "outputs": [
    {
     "name": "stdout",
     "output_type": "stream",
     "text": [
      "['Bangla', 'English', 'Math']\n"
     ]
    }
   ],
   "source": [
    "subject = [\"Bangla\", \"English\", \"Math\", \"Science\"]\n",
    "subject.pop()\n",
    "\n",
    "print(subject)"
   ]
  },
  {
   "cell_type": "code",
   "execution_count": 13,
   "id": "374d2251",
   "metadata": {},
   "outputs": [
    {
     "name": "stdout",
     "output_type": "stream",
     "text": [
      "['Bangla', 'English', 'Math']\n"
     ]
    }
   ],
   "source": [
    "subject = [\"Bangla\", \"English\", \"Math\", \"Science\"]\n",
    "del subject[3]\n",
    "\n",
    "print(subject)"
   ]
  },
  {
   "cell_type": "code",
   "execution_count": 15,
   "id": "2997e610",
   "metadata": {},
   "outputs": [],
   "source": [
    "subject = [\"Bangla\", \"English\", \"Math\", \"Science\"]\n",
    "del subject\n",
    "# it completely delete the list even list varriable "
   ]
  },
  {
   "cell_type": "code",
   "execution_count": 16,
   "id": "b55a33c2",
   "metadata": {},
   "outputs": [
    {
     "name": "stdout",
     "output_type": "stream",
     "text": [
      "[]\n"
     ]
    }
   ],
   "source": [
    "subject = [\"Bangla\", \"English\", \"Math\", \"Science\"]\n",
    "subject.clear()\n",
    "\n",
    "print(subject)"
   ]
  },
  {
   "cell_type": "markdown",
   "id": "bd7f5dd8",
   "metadata": {},
   "source": [
    "### Loop list"
   ]
  },
  {
   "cell_type": "code",
   "execution_count": 17,
   "id": "f7542317",
   "metadata": {},
   "outputs": [
    {
     "name": "stdout",
     "output_type": "stream",
     "text": [
      "Bangla\n",
      "English\n",
      "Math\n",
      "Science\n"
     ]
    }
   ],
   "source": [
    "subject = [\"Bangla\", \"English\", \"Math\", \"Science\"]\n",
    "for x in subject:\n",
    "    print(x)"
   ]
  },
  {
   "cell_type": "code",
   "execution_count": 18,
   "id": "a686842e",
   "metadata": {},
   "outputs": [
    {
     "name": "stdout",
     "output_type": "stream",
     "text": [
      "Bangla\n",
      "English\n",
      "Math\n",
      "Science\n"
     ]
    }
   ],
   "source": [
    "subject = [\"Bangla\", \"English\", \"Math\", \"Science\"]\n",
    "for i in range(len(subject)):\n",
    "    print(subject[i])"
   ]
  },
  {
   "cell_type": "code",
   "execution_count": 19,
   "id": "c3594079",
   "metadata": {},
   "outputs": [
    {
     "name": "stdout",
     "output_type": "stream",
     "text": [
      "Bangla\n",
      "English\n",
      "Math\n",
      "Science\n"
     ]
    }
   ],
   "source": [
    "subject = [\"Bangla\", \"English\", \"Math\", \"Science\"]\n",
    "i = 0\n",
    "while i < len(subject):\n",
    "    print(subject[i])\n",
    "    i +=1"
   ]
  },
  {
   "cell_type": "code",
   "execution_count": 20,
   "id": "900933c6",
   "metadata": {},
   "outputs": [
    {
     "name": "stdout",
     "output_type": "stream",
     "text": [
      "Bangla\n",
      "English\n",
      "Math\n",
      "Science\n"
     ]
    },
    {
     "data": {
      "text/plain": [
       "[None, None, None, None]"
      ]
     },
     "execution_count": 20,
     "metadata": {},
     "output_type": "execute_result"
    }
   ],
   "source": [
    "subject = [\"Bangla\", \"English\", \"Math\", \"Science\"]\n",
    "[print(x) for x in subject]"
   ]
  },
  {
   "cell_type": "markdown",
   "id": "eb1eecce",
   "metadata": {},
   "source": [
    "### List comprrehension"
   ]
  },
  {
   "cell_type": "code",
   "execution_count": 1,
   "id": "f8830376",
   "metadata": {},
   "outputs": [
    {
     "name": "stdout",
     "output_type": "stream",
     "text": [
      "['Bangla', 'English', 'Math', 'Science']\n"
     ]
    }
   ],
   "source": [
    "subject = [\"Bangla\", \"English\", \"Math\", \"Science\"]\n",
    "sub = []\n",
    "\n",
    "for x in subject:\n",
    "    sub.append(x)\n",
    "\n",
    "print(sub)"
   ]
  },
  {
   "cell_type": "code",
   "execution_count": 2,
   "id": "656d8d83",
   "metadata": {},
   "outputs": [
    {
     "name": "stdout",
     "output_type": "stream",
     "text": [
      "['Bangla', 'English', 'Math', 'Science']\n"
     ]
    }
   ],
   "source": [
    "subject = [\"Bangla\", \"English\", \"Math\", \"Science\"]\n",
    "newlist = [x for x in subject]\n",
    "\n",
    "print(newlist)"
   ]
  },
  {
   "cell_type": "code",
   "execution_count": 5,
   "id": "be200a29",
   "metadata": {},
   "outputs": [
    {
     "name": "stdout",
     "output_type": "stream",
     "text": [
      "['Bangla', 'Math']\n"
     ]
    }
   ],
   "source": [
    "subject = [\"Bangla\", \"English\", \"Math\", \"Science\"]\n",
    "sub = []\n",
    "\n",
    "for x in subject:\n",
    "    if \"a\" in x:\n",
    "        sub.append(x)\n",
    "\n",
    "print(sub)"
   ]
  },
  {
   "cell_type": "code",
   "execution_count": 4,
   "id": "6ca8fef6",
   "metadata": {},
   "outputs": [
    {
     "name": "stdout",
     "output_type": "stream",
     "text": [
      "['Bangla', 'Math']\n"
     ]
    }
   ],
   "source": [
    "subject = [\"Bangla\", \"English\", \"Math\", \"Science\"]\n",
    "newlist = [x for x in subject if \"a\" in x]\n",
    "\n",
    "print(newlist)"
   ]
  },
  {
   "cell_type": "markdown",
   "id": "b4caaf6f",
   "metadata": {},
   "source": [
    "### Sort List"
   ]
  },
  {
   "cell_type": "code",
   "execution_count": 12,
   "id": "690f2940",
   "metadata": {},
   "outputs": [
    {
     "name": "stdout",
     "output_type": "stream",
     "text": [
      "['Bangla', 'English', 'Math', 'Science']\n"
     ]
    }
   ],
   "source": [
    "subject = [\"Bangla\", \"English\", \"Math\", \"Science\"]\n",
    "subject.sort()\n",
    "\n",
    "print(subject)"
   ]
  },
  {
   "cell_type": "code",
   "execution_count": 7,
   "id": "7037c72c",
   "metadata": {},
   "outputs": [
    {
     "name": "stdout",
     "output_type": "stream",
     "text": [
      "['Science', 'Math', 'English', 'Bangla']\n"
     ]
    }
   ],
   "source": [
    "subject = [\"Bangla\", \"English\", \"Math\", \"Science\"]\n",
    "subject.sort(reverse = True)\n",
    "\n",
    "print(subject)"
   ]
  },
  {
   "cell_type": "code",
   "execution_count": 8,
   "id": "463b99d3",
   "metadata": {},
   "outputs": [
    {
     "name": "stdout",
     "output_type": "stream",
     "text": [
      "[10, 20, 30, 40, 60]\n"
     ]
    }
   ],
   "source": [
    "num = [10, 30, 20, 60, 40]\n",
    "num.sort()\n",
    "\n",
    "print(num)"
   ]
  },
  {
   "cell_type": "code",
   "execution_count": 4,
   "id": "02bd1895",
   "metadata": {},
   "outputs": [
    {
     "name": "stdout",
     "output_type": "stream",
     "text": [
      "[40, 60, 30, 70, 10, 90]\n"
     ]
    }
   ],
   "source": [
    "# by defining function\n",
    "def myfunc(n):\n",
    "    return abs(n-50)\n",
    "\n",
    "num = [10, 30, 40, 60, 70, 90]\n",
    "num.sort(key = myfunc)\n",
    "print(num)"
   ]
  },
  {
   "cell_type": "code",
   "execution_count": 10,
   "id": "3bdd447c",
   "metadata": {},
   "outputs": [
    {
     "name": "stdout",
     "output_type": "stream",
     "text": [
      "['banana', 'cherry', 'Kiwi', 'Orange']\n"
     ]
    }
   ],
   "source": [
    "# case sensitive\n",
    "fruits = [\"banana\", \"Orange\", \"Kiwi\", \"cherry\"]\n",
    "fruits.sort(key = str.lower)\n",
    "\n",
    "print(fruits)"
   ]
  },
  {
   "cell_type": "markdown",
   "id": "d089ecf6",
   "metadata": {},
   "source": [
    "### Copy list"
   ]
  },
  {
   "cell_type": "code",
   "execution_count": 13,
   "id": "bdc96ebd",
   "metadata": {},
   "outputs": [
    {
     "name": "stdout",
     "output_type": "stream",
     "text": [
      "['Bangla', 'English', 'Math', 'Science']\n"
     ]
    }
   ],
   "source": [
    "subject = [\"Bangla\", \"English\", \"Math\", \"Science\"]\n",
    "newlist = subject.copy()\n",
    "\n",
    "print(newlist)"
   ]
  },
  {
   "cell_type": "code",
   "execution_count": 15,
   "id": "32146d8b",
   "metadata": {},
   "outputs": [
    {
     "name": "stdout",
     "output_type": "stream",
     "text": [
      "['Bangla', 'English', 'Math', 'Science']\n"
     ]
    }
   ],
   "source": [
    "subject = [\"Bangla\", \"English\", \"Math\", \"Science\"]\n",
    "newlist = list(subject)\n",
    "\n",
    "print(subject)"
   ]
  },
  {
   "cell_type": "markdown",
   "id": "e6dfdc83",
   "metadata": {},
   "source": [
    "### Join list"
   ]
  },
  {
   "cell_type": "code",
   "execution_count": 16,
   "id": "c2d323a1",
   "metadata": {},
   "outputs": [
    {
     "name": "stdout",
     "output_type": "stream",
     "text": [
      "['a', 'b', 'c', 'd', 1, 2, 3]\n"
     ]
    }
   ],
   "source": [
    "list1 = [\"a\", \"b\", \"c\", \"d\"]\n",
    "list2 = [1, 2, 3]\n",
    "\n",
    "list3 = list1+list2\n",
    "print(list3)"
   ]
  },
  {
   "cell_type": "code",
   "execution_count": 17,
   "id": "c3117ef1",
   "metadata": {},
   "outputs": [
    {
     "name": "stdout",
     "output_type": "stream",
     "text": [
      "['a', 'b', 'c', 'd', 1, 2, 3]\n"
     ]
    }
   ],
   "source": [
    "list1 = [\"a\", \"b\", \"c\", \"d\"]\n",
    "list2 = [1, 2, 3]\n",
    "\n",
    "for i in list2:\n",
    "    list1.append(i)\n",
    "    \n",
    "print(list1)"
   ]
  },
  {
   "cell_type": "code",
   "execution_count": 18,
   "id": "3d57e8ee",
   "metadata": {},
   "outputs": [
    {
     "name": "stdout",
     "output_type": "stream",
     "text": [
      "['a', 'b', 'c', 'd', 1, 2, 3]\n"
     ]
    }
   ],
   "source": [
    "list1 = [\"a\", \"b\", \"c\", \"d\"]\n",
    "list2 = [1, 2, 3]\n",
    "\n",
    "list1.extend(list2)\n",
    "print(list1)"
   ]
  },
  {
   "cell_type": "markdown",
   "id": "41649ccf",
   "metadata": {},
   "source": [
    "# Tuples"
   ]
  },
  {
   "cell_type": "code",
   "execution_count": 19,
   "id": "62577a28",
   "metadata": {},
   "outputs": [
    {
     "name": "stdout",
     "output_type": "stream",
     "text": [
      "('samman', 'abu', 'salaho', 'sami', 'safi', 'sazzad')\n"
     ]
    }
   ],
   "source": [
    "# orderd, unchangeable, allow duplicate value\n",
    "# it can cointain any data type. \n",
    "name = (\"samman\", \"abu\", \"salaho\", \"sami\", \"safi\", \"sazzad\")\n",
    "print(name)"
   ]
  },
  {
   "cell_type": "code",
   "execution_count": 20,
   "id": "b1eb61f4",
   "metadata": {},
   "outputs": [
    {
     "name": "stdout",
     "output_type": "stream",
     "text": [
      "6\n"
     ]
    }
   ],
   "source": [
    "name = (\"samman\", \"abu\", \"salaho\", \"sami\", \"safi\", \"sacho\")\n",
    "print(len(name))"
   ]
  },
  {
   "cell_type": "code",
   "execution_count": 21,
   "id": "77077de1",
   "metadata": {},
   "outputs": [
    {
     "name": "stdout",
     "output_type": "stream",
     "text": [
      "<class 'tuple'>\n",
      "<class 'str'>\n"
     ]
    }
   ],
   "source": [
    "# create tuple with one item. \n",
    "thistuple = (\"apple\",)\n",
    "print(type(thistuple))\n",
    "\n",
    "#NOT a tuple\n",
    "thistuple = (\"apple\")\n",
    "print(type(thistuple))"
   ]
  },
  {
   "cell_type": "code",
   "execution_count": 22,
   "id": "adf094ef",
   "metadata": {},
   "outputs": [
    {
     "name": "stdout",
     "output_type": "stream",
     "text": [
      "('apple', 'banana', 'cherry')\n"
     ]
    }
   ],
   "source": [
    "thistuple = tuple((\"apple\", \"banana\", \"cherry\")) \n",
    "# note the double round-brackets\n",
    "\n",
    "print(thistuple)"
   ]
  },
  {
   "cell_type": "code",
   "execution_count": 23,
   "id": "27747b56",
   "metadata": {},
   "outputs": [
    {
     "name": "stdout",
     "output_type": "stream",
     "text": [
      "sacho\n",
      "('samman', 'abu', 'salaho')\n",
      "('salaho', 'sami', 'safi', 'sacho')\n",
      "('abu', 'salaho', 'sami', 'safi')\n"
     ]
    }
   ],
   "source": [
    "# tuple are orderd\n",
    "name = (\"samman\", \"abu\", \"salaho\", \"sami\", \"safi\", \"sacho\")\n",
    "\n",
    "print(name[-1])\n",
    "print(name[:3]) # it upto 3 index not three\n",
    "print(name[2:])\n",
    "print(name[-5:-1]) # it upto -1 index not -1"
   ]
  },
  {
   "cell_type": "markdown",
   "id": "4143a7e6",
   "metadata": {},
   "source": [
    "### update tuple"
   ]
  },
  {
   "cell_type": "code",
   "execution_count": 26,
   "id": "5f453575",
   "metadata": {},
   "outputs": [
    {
     "name": "stdout",
     "output_type": "stream",
     "text": [
      "('samman', 'abu', 'salaho', 'sami', 'safi', 'ayan')\n"
     ]
    }
   ],
   "source": [
    "# change and update any item is prohabitate\n",
    "name = (\"samman\", \"abu\", \"salaho\", \"sami\", \"safi\", \"sacho\")\n",
    "name = list(name)\n",
    "\n",
    "name.pop()\n",
    "name.append(\"ayan\")\n",
    "name = tuple(name)\n",
    "print(name)"
   ]
  },
  {
   "cell_type": "code",
   "execution_count": 27,
   "id": "2d02a0f4",
   "metadata": {},
   "outputs": [
    {
     "name": "stdout",
     "output_type": "stream",
     "text": [
      "('samman', 'sami', 'safi', 'sasso', 'ayan', 'sindho')\n"
     ]
    }
   ],
   "source": [
    "name = (\"samman\", \"sami\", \"safi\")\n",
    "c_name = (\"sasso\", \"ayan\", \"sindho\")\n",
    "\n",
    "name+=c_name\n",
    "print(name)"
   ]
  },
  {
   "cell_type": "code",
   "execution_count": 29,
   "id": "7eaa9320",
   "metadata": {},
   "outputs": [],
   "source": [
    "name = (\"samman\", \"sami\", \"safi\")\n",
    "c_name = (\"sasso\", \"ayan\", \"sindho\")\n",
    "\n",
    "del c_name"
   ]
  },
  {
   "cell_type": "markdown",
   "id": "5be17f57",
   "metadata": {},
   "source": [
    "### unpack tuple"
   ]
  },
  {
   "cell_type": "code",
   "execution_count": 30,
   "id": "c4e49083",
   "metadata": {},
   "outputs": [
    {
     "name": "stdout",
     "output_type": "stream",
     "text": [
      "samman\n",
      "sami\n",
      "safi\n"
     ]
    }
   ],
   "source": [
    "name = (\"samman\", \"sami\", \"safi\")\n",
    "elder, mider, smaller = name\n",
    "\n",
    "print(elder)\n",
    "print(mider)\n",
    "print(smaller)"
   ]
  },
  {
   "cell_type": "code",
   "execution_count": 31,
   "id": "748fb8c8",
   "metadata": {},
   "outputs": [
    {
     "name": "stdout",
     "output_type": "stream",
     "text": [
      "samman\n",
      "abu\n",
      "['salaho', 'sami', 'safi', 'sacho']\n"
     ]
    }
   ],
   "source": [
    "# use varriable and list\n",
    "name = (\"samman\", \"abu\", \"salaho\", \"sami\", \"safi\", \"sacho\")\n",
    "elder, middle, *smaller = name\n",
    "\n",
    "print(elder)\n",
    "print(middle)\n",
    "print(smaller)"
   ]
  },
  {
   "cell_type": "code",
   "execution_count": 32,
   "id": "85d998d8",
   "metadata": {},
   "outputs": [
    {
     "name": "stdout",
     "output_type": "stream",
     "text": [
      "samman\n",
      "['abu', 'salaho', 'sami', 'safi']\n",
      "sacho\n"
     ]
    }
   ],
   "source": [
    "name = (\"samman\", \"abu\", \"salaho\", \"sami\", \"safi\", \"sacho\")\n",
    "elder, *middle, smaller = name\n",
    "\n",
    "print(elder)\n",
    "print(middle)\n",
    "print(smaller)"
   ]
  },
  {
   "cell_type": "markdown",
   "id": "7256675d",
   "metadata": {},
   "source": [
    "### loop in tuple"
   ]
  },
  {
   "cell_type": "code",
   "execution_count": 33,
   "id": "5561f8e6",
   "metadata": {},
   "outputs": [
    {
     "name": "stdout",
     "output_type": "stream",
     "text": [
      "samman\n",
      "abu\n",
      "salaho\n",
      "sami\n",
      "safi\n",
      "sacho\n"
     ]
    }
   ],
   "source": [
    "name = (\"samman\", \"abu\", \"salaho\", \"sami\", \"safi\", \"sacho\")\n",
    "for x in name:\n",
    "    print(x)"
   ]
  },
  {
   "cell_type": "code",
   "execution_count": 34,
   "id": "37a9d6d1",
   "metadata": {},
   "outputs": [
    {
     "name": "stdout",
     "output_type": "stream",
     "text": [
      "samman\n",
      "abu\n",
      "salaho\n",
      "sami\n",
      "safi\n",
      "sacho\n"
     ]
    }
   ],
   "source": [
    "name = (\"samman\", \"abu\", \"salaho\", \"sami\", \"safi\", \"sacho\")\n",
    "for i in range(len(name)):\n",
    "    print(name[i])"
   ]
  },
  {
   "cell_type": "code",
   "execution_count": 35,
   "id": "b7818e54",
   "metadata": {},
   "outputs": [
    {
     "name": "stdout",
     "output_type": "stream",
     "text": [
      "samman\n",
      "abu\n",
      "salaho\n",
      "sami\n",
      "safi\n",
      "sacho\n"
     ]
    }
   ],
   "source": [
    "name = (\"samman\", \"abu\", \"salaho\", \"sami\", \"safi\", \"sacho\")\n",
    "i = 0\n",
    "while i<len(name):\n",
    "    print(name[i])\n",
    "    i+=1"
   ]
  },
  {
   "cell_type": "markdown",
   "id": "174a1d3b",
   "metadata": {},
   "source": [
    "### join tuple"
   ]
  },
  {
   "cell_type": "code",
   "execution_count": 36,
   "id": "e2abac0d",
   "metadata": {},
   "outputs": [
    {
     "name": "stdout",
     "output_type": "stream",
     "text": [
      "('samman', 'sami', 'safi', 'sasso', 'ayan', 'sindho')\n"
     ]
    }
   ],
   "source": [
    "name = (\"samman\", \"sami\", \"safi\")\n",
    "c_name = (\"sasso\", \"ayan\", \"sindho\")\n",
    "\n",
    "brother = name + c_name\n",
    "print(brother)"
   ]
  },
  {
   "cell_type": "code",
   "execution_count": 37,
   "id": "de04cadf",
   "metadata": {},
   "outputs": [
    {
     "name": "stdout",
     "output_type": "stream",
     "text": [
      "('samman', 'sami', 'safi', 'samman', 'sami', 'safi')\n"
     ]
    }
   ],
   "source": [
    "name = (\"samman\", \"sami\", \"safi\")\n",
    "brother = name*2\n",
    "\n",
    "print(brother)"
   ]
  },
  {
   "cell_type": "markdown",
   "id": "13233da5",
   "metadata": {},
   "source": [
    "# Set"
   ]
  },
  {
   "cell_type": "code",
   "execution_count": 38,
   "id": "6372a495",
   "metadata": {},
   "outputs": [
    {
     "name": "stdout",
     "output_type": "stream",
     "text": [
      "{'mou', 'mustihid', 'sazzad', 'lily', 'nizhum'}\n"
     ]
    }
   ],
   "source": [
    "# unorderd, unchangeable, not allow duplicate value\n",
    "friends = {\"sazzad\", \"mustihid\", \"nizhum\", \"lily\", \"mou\"}\n",
    "\n",
    "print(friends)"
   ]
  },
  {
   "cell_type": "code",
   "execution_count": 39,
   "id": "e1799946",
   "metadata": {},
   "outputs": [
    {
     "name": "stdout",
     "output_type": "stream",
     "text": [
      "{1, 3.45, 'name', 's', 5j}\n"
     ]
    }
   ],
   "source": [
    "random = {1, 3.45, \"s\", \"name\", True, 5j}\n",
    "print(random)"
   ]
  },
  {
   "cell_type": "markdown",
   "id": "565f456d",
   "metadata": {},
   "source": [
    "### access set"
   ]
  },
  {
   "cell_type": "code",
   "execution_count": 40,
   "id": "0206ffac",
   "metadata": {},
   "outputs": [
    {
     "name": "stdout",
     "output_type": "stream",
     "text": [
      "mou\n",
      "mustihid\n",
      "sazzad\n",
      "lily\n",
      "nizhum\n"
     ]
    }
   ],
   "source": [
    "# not allow indexing\n",
    "friends = {\"sazzad\", \"mustihid\", \"nizhum\", \"lily\", \"mou\"}\n",
    "for x in friends:\n",
    "    print(x)"
   ]
  },
  {
   "cell_type": "code",
   "execution_count": 41,
   "id": "576c8af6",
   "metadata": {},
   "outputs": [
    {
     "name": "stdout",
     "output_type": "stream",
     "text": [
      "yes\n"
     ]
    }
   ],
   "source": [
    "friends = {\"sazzad\", \"mustihid\", \"nizhum\", \"lily\", \"mou\"}\n",
    "if \"mou\" in friends:\n",
    "    print(\"yes\")"
   ]
  },
  {
   "cell_type": "markdown",
   "id": "f862d72b",
   "metadata": {},
   "source": [
    "### add & remove set"
   ]
  },
  {
   "cell_type": "code",
   "execution_count": 42,
   "id": "5714b626",
   "metadata": {},
   "outputs": [
    {
     "name": "stdout",
     "output_type": "stream",
     "text": [
      "{'mou', 'mustihid', 'sazzad', 'lily', 'nizhum'}\n"
     ]
    }
   ],
   "source": [
    "# we can not change but can add\n",
    "friends = {\"sazzad\", \"mustihid\", \"lily\", \"mou\"}\n",
    "friends.add(\"nizhum\")\n",
    "\n",
    "print(friends)"
   ]
  },
  {
   "cell_type": "code",
   "execution_count": 43,
   "id": "5e5b1474",
   "metadata": {},
   "outputs": [
    {
     "name": "stdout",
     "output_type": "stream",
     "text": [
      "{'mou', 'mustihid', 'sazzad', 'lily', 'nizhum'}\n"
     ]
    }
   ],
   "source": [
    "# By using update varriable we can add any collection\n",
    "friends = {\"sazzad\", \"mustihid\", \"nizhum\"}\n",
    "female_friends = [\"mou\", \"lily\"]\n",
    "\n",
    "friends.update(female_friends)\n",
    "print(friends)"
   ]
  },
  {
   "cell_type": "code",
   "execution_count": 46,
   "id": "9f6b0f6f",
   "metadata": {},
   "outputs": [
    {
     "name": "stdout",
     "output_type": "stream",
     "text": [
      "{'mou', 'sazzad', 'lily'}\n"
     ]
    }
   ],
   "source": [
    "friends = {\"sazzad\", \"mustahid\", \"nizhum\", \"lily\", \"mou\"}\n",
    "friends.remove(\"nizhum\")\n",
    "friends.discard(\"mustahid\")\n",
    "\n",
    "print(friends)"
   ]
  },
  {
   "cell_type": "code",
   "execution_count": 48,
   "id": "ce1714d7",
   "metadata": {},
   "outputs": [],
   "source": [
    "friends = {\"sazzad\", \"mustihid\", \"nizhum\", \"lily\", \"mou\"}\n",
    "# friends.remove(\"ridan\")\n",
    "friends.discard(\"ridan\")"
   ]
  },
  {
   "cell_type": "markdown",
   "id": "6d701da5",
   "metadata": {},
   "source": [
    "### join set"
   ]
  },
  {
   "cell_type": "code",
   "execution_count": 51,
   "id": "bf1fe929",
   "metadata": {},
   "outputs": [
    {
     "name": "stdout",
     "output_type": "stream",
     "text": [
      "{'mou', 'mustihid', 'sazzad', 'lily', 'nizhum'}\n"
     ]
    }
   ],
   "source": [
    "friends = {\"sazzad\", \"mustihid\", \"nizhum\"}\n",
    "female_friends = {\"mou\", \"lily\"}\n",
    "\n",
    "# it return a new set so, a varriable is must\n",
    "# friends.union(female_friends)\n",
    "friends = friends.union(female_friends)\n",
    "print(friends)"
   ]
  },
  {
   "cell_type": "code",
   "execution_count": 52,
   "id": "b5cc7353",
   "metadata": {},
   "outputs": [
    {
     "name": "stdout",
     "output_type": "stream",
     "text": [
      "{'mou', 'mustihid', 'sazzad', 'lily', 'nizhum'}\n"
     ]
    }
   ],
   "source": [
    "friends = {\"sazzad\", \"mustihid\", \"nizhum\"}\n",
    "female_friends = {\"mou\", \"lily\"}\n",
    "\n",
    "friends.update(female_friends)\n",
    "print(friends)"
   ]
  },
  {
   "cell_type": "code",
   "execution_count": 56,
   "id": "532cfd53",
   "metadata": {},
   "outputs": [
    {
     "name": "stdout",
     "output_type": "stream",
     "text": [
      "{'mim'}\n",
      "{'mustihid', 'mim', 'nizhum', 'sazzad'}\n"
     ]
    }
   ],
   "source": [
    "friends = {\"sazzad\", \"mustihid\", \"nizhum\", 'mim'}\n",
    "female_friends = {\"mou\", \"lily\", \"mim\"}\n",
    "\n",
    "print(friends.intersection(female_friends))\n",
    "print(friends)"
   ]
  },
  {
   "cell_type": "code",
   "execution_count": 53,
   "id": "1194b456",
   "metadata": {},
   "outputs": [
    {
     "name": "stdout",
     "output_type": "stream",
     "text": [
      "{'mim'}\n"
     ]
    }
   ],
   "source": [
    "friends = {\"sazzad\", \"mustihid\", \"nizhum\", 'mim'}\n",
    "female_friends = {\"mou\", \"lily\", \"mim\"}\n",
    "\n",
    "friends.intersection_update(female_friends)\n",
    "print(friends)"
   ]
  },
  {
   "cell_type": "code",
   "execution_count": 58,
   "id": "13004731",
   "metadata": {},
   "outputs": [
    {
     "name": "stdout",
     "output_type": "stream",
     "text": [
      "{'mou', 'mustihid', 'sazzad', 'lily', 'nizhum'}\n"
     ]
    }
   ],
   "source": [
    "friends = {\"sazzad\", \"mustihid\", \"nizhum\", 'mim'}\n",
    "female_friends = {\"mou\", \"lily\", \"mim\"}\n",
    "\n",
    "friends.symmetric_difference_update(female_friends)\n",
    "print(friends)"
   ]
  },
  {
   "cell_type": "code",
   "execution_count": 59,
   "id": "eb87c8f9",
   "metadata": {},
   "outputs": [
    {
     "name": "stdout",
     "output_type": "stream",
     "text": [
      "True\n"
     ]
    }
   ],
   "source": [
    "# isdisjoint method\n",
    "x = {\"apple\", \"banana\", \"cherry\"}\n",
    "y = {\"google\", \"microsoft\", \"facebook\"}\n",
    "z = x.isdisjoint(y)\n",
    "\n",
    "print(z)"
   ]
  },
  {
   "cell_type": "code",
   "execution_count": 60,
   "id": "514fc03a",
   "metadata": {},
   "outputs": [
    {
     "name": "stdout",
     "output_type": "stream",
     "text": [
      "True\n"
     ]
    }
   ],
   "source": [
    "# issubset method\n",
    "x = {\"a\", \"b\", \"c\"}\n",
    "y = {\"f\", \"e\", \"d\", \"c\", \"b\", \"a\"}\n",
    "z = x.issubset(y)\n",
    "\n",
    "print(z)"
   ]
  },
  {
   "cell_type": "code",
   "execution_count": 61,
   "id": "5fbcfdc9",
   "metadata": {},
   "outputs": [
    {
     "name": "stdout",
     "output_type": "stream",
     "text": [
      "True\n"
     ]
    }
   ],
   "source": [
    "# issuperset method\n",
    "x = {\"f\", \"e\", \"d\", \"c\", \"b\", \"a\"}\n",
    "y = {\"a\", \"b\", \"c\"}\n",
    "z = x.issuperset(y)\n",
    "\n",
    "print(z)"
   ]
  },
  {
   "cell_type": "markdown",
   "id": "775a593d",
   "metadata": {},
   "source": [
    "# Dictionary"
   ]
  },
  {
   "cell_type": "code",
   "execution_count": 64,
   "id": "fd0e446e",
   "metadata": {},
   "outputs": [
    {
     "name": "stdout",
     "output_type": "stream",
     "text": [
      "{'brand': 'ford', 'price': '1m', 'h_power': '4000'}\n",
      "1m\n"
     ]
    }
   ],
   "source": [
    "car = {\n",
    "    \"brand\": \"ford\",\n",
    "    \"price\": \"1m\",\n",
    "    \"h_power\": \"4000\"\n",
    "}\n",
    "print(car)\n",
    "print(car[\"price\"])"
   ]
  },
  {
   "cell_type": "code",
   "execution_count": 68,
   "id": "e8045da6",
   "metadata": {},
   "outputs": [
    {
     "name": "stdout",
     "output_type": "stream",
     "text": [
      "5\n"
     ]
    }
   ],
   "source": [
    "# orderd, changeable, does not allo duplicate value\n",
    "car = {\n",
    "    \"brand\"    : \"ford\",\n",
    "    \"type\"     : \"Gasoline engine\",\n",
    "    \"clectrice\": False,\n",
    "    \"price\"    : \"1m\",\n",
    "    \"h_power\"  : 4000\n",
    "}\n",
    "\n",
    "print(len(car))"
   ]
  },
  {
   "cell_type": "code",
   "execution_count": 72,
   "id": "45bb381a",
   "metadata": {},
   "outputs": [
    {
     "name": "stdout",
     "output_type": "stream",
     "text": [
      "{'brand': 'ford', 'types': 'Gas engine', 'electric': False}\n"
     ]
    }
   ],
   "source": [
    "car = dict(brand = \"ford\", types = \"Gas engine\", electric= False)\n",
    "print(car)"
   ]
  },
  {
   "cell_type": "markdown",
   "id": "92d5850d",
   "metadata": {},
   "source": [
    "### accessing value"
   ]
  },
  {
   "cell_type": "code",
   "execution_count": 73,
   "id": "62f11633",
   "metadata": {},
   "outputs": [
    {
     "name": "stdout",
     "output_type": "stream",
     "text": [
      "Gasoline engine\n",
      "1m\n"
     ]
    }
   ],
   "source": [
    "car = {\n",
    "    \"brand\"    : \"ford\",\n",
    "    \"type\"     : \"Gasoline engine\",\n",
    "    \"clectrice\": False,\n",
    "    \"price\"    : \"1m\",\n",
    "    \"h_power\"  : 4000\n",
    "}\n",
    "\n",
    "x = car[\"type\"]\n",
    "print(x)\n",
    "\n",
    "y = car.get(\"price\")\n",
    "print(y)"
   ]
  },
  {
   "cell_type": "code",
   "execution_count": 74,
   "id": "5b063370",
   "metadata": {},
   "outputs": [
    {
     "name": "stdout",
     "output_type": "stream",
     "text": [
      "dict_keys(['brand', 'type', 'clectrice', 'price', 'h_power'])\n"
     ]
    }
   ],
   "source": [
    "car = {\n",
    "    \"brand\"    : \"ford\",\n",
    "    \"type\"     : \"Gasoline engine\",\n",
    "    \"clectrice\": False,\n",
    "    \"price\"    : \"1m\",\n",
    "    \"h_power\"  : 4000\n",
    "}\n",
    "\n",
    "x = car.keys()\n",
    "print(x)"
   ]
  },
  {
   "cell_type": "code",
   "execution_count": 77,
   "id": "b0f90708",
   "metadata": {},
   "outputs": [
    {
     "name": "stdout",
     "output_type": "stream",
     "text": [
      "dict_keys(['brand', 'type', 'clectrice', 'price', 'h_power', 'colour'])\n",
      "dict_values(['ford', 'Gasoline engine', False, '1m', 6000, 'glossy black'])\n"
     ]
    }
   ],
   "source": [
    "# add new item, updating\n",
    "car = {\n",
    "    \"brand\"    : \"ford\",\n",
    "    \"type\"     : \"Gasoline engine\",\n",
    "    \"clectrice\": False,\n",
    "    \"price\"    : \"1m\",\n",
    "    \"h_power\"  : 4000\n",
    "}\n",
    "car[\"colour\"] = \"glossy black\"\n",
    "car[\"h_power\"] = 6000\n",
    "print(car.keys())\n",
    "print(car.values())"
   ]
  },
  {
   "cell_type": "code",
   "execution_count": 79,
   "id": "a993ff17",
   "metadata": {},
   "outputs": [
    {
     "name": "stdout",
     "output_type": "stream",
     "text": [
      "dict_items([('brand', 'ford'), ('type', 'Gasoline engine'), ('clectrice', False), ('price', '1m'), ('h_power', 4000)])\n"
     ]
    }
   ],
   "source": [
    "car = {\n",
    "    \"brand\"    : \"ford\",\n",
    "    \"type\"     : \"Gasoline engine\",\n",
    "    \"clectrice\": False,\n",
    "    \"price\"    : \"1m\",\n",
    "    \"h_power\"  : 4000\n",
    "}\n",
    "\n",
    "print(car.items())"
   ]
  },
  {
   "cell_type": "code",
   "execution_count": 81,
   "id": "51a001e0",
   "metadata": {},
   "outputs": [
    {
     "name": "stdout",
     "output_type": "stream",
     "text": [
      "yes 1m\n"
     ]
    }
   ],
   "source": [
    "car = {\n",
    "    \"brand\"    : \"ford\",\n",
    "    \"type\"     : \"Gasoline engine\",\n",
    "    \"clectrice\": False,\n",
    "    \"price\"    : \"1m\",\n",
    "    \"h_power\"  : 4000\n",
    "}\n",
    "\n",
    "if \"price\" in car:\n",
    "    print(\"yes\", car[\"price\"])"
   ]
  },
  {
   "cell_type": "markdown",
   "id": "9c52675e",
   "metadata": {},
   "source": [
    "### remove item"
   ]
  },
  {
   "cell_type": "code",
   "execution_count": 84,
   "id": "276044c2",
   "metadata": {},
   "outputs": [
    {
     "name": "stdout",
     "output_type": "stream",
     "text": [
      "{'brand': 'ford', 'type': 'Gasoline engine', 'price': '1m', 'h_power': 4000}\n"
     ]
    }
   ],
   "source": [
    "car = {\n",
    "    \"brand\"    : \"ford\",\n",
    "    \"type\"     : \"Gasoline engine\",\n",
    "    \"clectrice\": False,\n",
    "    \"price\"    : \"1m\",\n",
    "    \"h_power\"  : 4000\n",
    "}\n",
    "\n",
    "car.pop(\"clectrice\")\n",
    "print(car)"
   ]
  },
  {
   "cell_type": "code",
   "execution_count": 85,
   "id": "9ac57978",
   "metadata": {},
   "outputs": [
    {
     "name": "stdout",
     "output_type": "stream",
     "text": [
      "{'brand': 'ford', 'type': 'Gasoline engine', 'clectrice': False, 'price': '1m'}\n"
     ]
    }
   ],
   "source": [
    "car = {\n",
    "    \"brand\"    : \"ford\",\n",
    "    \"type\"     : \"Gasoline engine\",\n",
    "    \"clectrice\": False,\n",
    "    \"price\"    : \"1m\",\n",
    "    \"h_power\"  : 4000\n",
    "}\n",
    "\n",
    "# car.pop()\n",
    "car.popitem()\n",
    "print(car)"
   ]
  },
  {
   "cell_type": "code",
   "execution_count": 86,
   "id": "839b079c",
   "metadata": {},
   "outputs": [
    {
     "name": "stdout",
     "output_type": "stream",
     "text": [
      "{'brand': 'ford', 'type': 'Gasoline engine', 'clectrice': False, 'price': '1m'}\n"
     ]
    }
   ],
   "source": [
    "car = {\n",
    "    \"brand\"    : \"ford\",\n",
    "    \"type\"     : \"Gasoline engine\",\n",
    "    \"clectrice\": False,\n",
    "    \"price\"    : \"1m\",\n",
    "    \"h_power\"  : 4000\n",
    "}\n",
    "\n",
    "del car[\"h_power\"]\n",
    "print(car)"
   ]
  },
  {
   "cell_type": "code",
   "execution_count": 87,
   "id": "764dc160",
   "metadata": {},
   "outputs": [
    {
     "name": "stdout",
     "output_type": "stream",
     "text": [
      "{}\n"
     ]
    }
   ],
   "source": [
    "car = {\n",
    "    \"brand\"    : \"ford\",\n",
    "    \"type\"     : \"Gasoline engine\",\n",
    "    \"clectrice\": False,\n",
    "    \"price\"    : \"1m\",\n",
    "    \"h_power\"  : 4000\n",
    "}\n",
    "# del car\n",
    "car.clear()\n",
    "print(car)"
   ]
  },
  {
   "cell_type": "markdown",
   "id": "430b25f1",
   "metadata": {},
   "source": [
    "### Loop "
   ]
  },
  {
   "cell_type": "code",
   "execution_count": 89,
   "id": "e6538b6b",
   "metadata": {},
   "outputs": [
    {
     "name": "stdout",
     "output_type": "stream",
     "text": [
      "brand\n",
      "type\n",
      "clectrice\n",
      "price\n",
      "h_power\n"
     ]
    }
   ],
   "source": [
    "car = {\n",
    "    \"brand\"    : \"ford\",\n",
    "    \"type\"     : \"Gasoline engine\",\n",
    "    \"clectrice\": False,\n",
    "    \"price\"    : \"1m\",\n",
    "    \"h_power\"  : 4000\n",
    "}\n",
    "\n",
    "for x in car:\n",
    "    print(x)"
   ]
  },
  {
   "cell_type": "code",
   "execution_count": 90,
   "id": "069ff579",
   "metadata": {},
   "outputs": [
    {
     "name": "stdout",
     "output_type": "stream",
     "text": [
      "ford\n",
      "Gasoline engine\n",
      "False\n",
      "1m\n",
      "4000\n"
     ]
    }
   ],
   "source": [
    "car = {\n",
    "    \"brand\"    : \"ford\",\n",
    "    \"type\"     : \"Gasoline engine\",\n",
    "    \"clectrice\": False,\n",
    "    \"price\"    : \"1m\",\n",
    "    \"h_power\"  : 4000\n",
    "}\n",
    "\n",
    "for x in car:\n",
    "    print(car[x])"
   ]
  },
  {
   "cell_type": "code",
   "execution_count": 93,
   "id": "aed2a342",
   "metadata": {},
   "outputs": [
    {
     "name": "stdout",
     "output_type": "stream",
     "text": [
      "brand  :  ford\n",
      "type  :  Gasoline engine\n",
      "clectrice  :  False\n",
      "price  :  1m\n",
      "h_power  :  4000\n"
     ]
    }
   ],
   "source": [
    "for x, y in car.items():\n",
    "    print(x ,\" : \", y)"
   ]
  },
  {
   "cell_type": "markdown",
   "id": "4c71ae89",
   "metadata": {},
   "source": [
    "### copy dictonary"
   ]
  },
  {
   "cell_type": "code",
   "execution_count": 94,
   "id": "241b9fce",
   "metadata": {},
   "outputs": [
    {
     "name": "stdout",
     "output_type": "stream",
     "text": [
      "{'brand': 'ford', 'type': 'Gasoline engine', 'clectrice': False, 'price': '1m', 'h_power': 4000}\n"
     ]
    }
   ],
   "source": [
    "car = {\n",
    "    \"brand\"    : \"ford\",\n",
    "    \"type\"     : \"Gasoline engine\",\n",
    "    \"clectrice\": False,\n",
    "    \"price\"    : \"1m\",\n",
    "    \"h_power\"  : 4000\n",
    "}\n",
    "\n",
    "new_car = car.copy()\n",
    "print(new_car)"
   ]
  },
  {
   "cell_type": "code",
   "execution_count": 96,
   "id": "b72197af",
   "metadata": {},
   "outputs": [
    {
     "name": "stdout",
     "output_type": "stream",
     "text": [
      "{'brand': 'ford', 'type': 'Gasoline engine', 'clectrice': False, 'price': '1m', 'h_power': 4000}\n"
     ]
    }
   ],
   "source": [
    "car = {\n",
    "    \"brand\"    : \"ford\",\n",
    "    \"type\"     : \"Gasoline engine\",\n",
    "    \"clectrice\": False,\n",
    "    \"price\"    : \"1m\",\n",
    "    \"h_power\"  : 4000\n",
    "}\n",
    "\n",
    "new_car = dict(car)\n",
    "print(new_car)"
   ]
  },
  {
   "cell_type": "markdown",
   "id": "e1974c3b",
   "metadata": {},
   "source": [
    "### nested dictonary"
   ]
  },
  {
   "cell_type": "code",
   "execution_count": 99,
   "id": "91947c63",
   "metadata": {},
   "outputs": [
    {
     "name": "stdout",
     "output_type": "stream",
     "text": [
      "{'ford': {'type': 'gas', 'price': 10000000}, 'jaguar': {'type': 'gas', 'price': 20000000}, 'toyata': {'type': 'gas', 'price': 100000}}\n",
      "Car price is:  100000\n"
     ]
    }
   ],
   "source": [
    "car = {\n",
    "    \"ford\":{\n",
    "        \"type\" : \"gas\",\n",
    "        \"price\": 10000000\n",
    "    },\n",
    "    \"jaguar\":{\n",
    "        \"type\" : \"gas\",\n",
    "        \"price\": 20000000\n",
    "    },\n",
    "    \"toyata\":{\n",
    "        \"type\" : \"gas\",\n",
    "        \"price\" : 100000\n",
    "    }\n",
    "}\n",
    "\n",
    "print(car)\n",
    "print(\"Car price is: \",car[\"toyata\"][\"price\"])"
   ]
  },
  {
   "cell_type": "markdown",
   "id": "d695801a",
   "metadata": {},
   "source": [
    "### some method"
   ]
  },
  {
   "cell_type": "code",
   "execution_count": 100,
   "id": "db1ee3c1",
   "metadata": {},
   "outputs": [
    {
     "name": "stdout",
     "output_type": "stream",
     "text": [
      "{1: None, 2: None, 3: None, 4: None}\n"
     ]
    }
   ],
   "source": [
    "# fromkeys method\n",
    "x = (1, 2, 3, 4)\n",
    "y = None\n",
    "\n",
    "num = dict.fromkeys(x, y)\n",
    "print(num)"
   ]
  },
  {
   "cell_type": "code",
   "execution_count": 102,
   "id": "a0d54e23",
   "metadata": {},
   "outputs": [
    {
     "name": "stdout",
     "output_type": "stream",
     "text": [
      "white\n"
     ]
    }
   ],
   "source": [
    "# setdefault method\n",
    "car = {\n",
    "  \"brand\": \"Ford\",\n",
    "  \"model\": \"Mustang\",\n",
    "  \"year\": 1964\n",
    "}\n",
    "\n",
    "x = car.setdefault(\"color\", \"white\")\n",
    "print(x)"
   ]
  },
  {
   "cell_type": "code",
   "execution_count": null,
   "id": "11eb1e8e",
   "metadata": {},
   "outputs": [],
   "source": []
  }
 ],
 "metadata": {
  "kernelspec": {
   "display_name": "Python 3 (ipykernel)",
   "language": "python",
   "name": "python3"
  },
  "language_info": {
   "codemirror_mode": {
    "name": "ipython",
    "version": 3
   },
   "file_extension": ".py",
   "mimetype": "text/x-python",
   "name": "python",
   "nbconvert_exporter": "python",
   "pygments_lexer": "ipython3",
   "version": "3.9.7"
  }
 },
 "nbformat": 4,
 "nbformat_minor": 5
}
